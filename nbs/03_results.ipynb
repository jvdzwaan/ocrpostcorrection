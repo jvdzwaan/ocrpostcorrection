{
 "cells": [
  {
   "cell_type": "raw",
   "metadata": {},
   "source": [
    "---\n",
    "title: Results\n",
    "output-file: results.html\n",
    "description: Experimental results for the different tasks\n",
    "---"
   ]
  },
  {
   "cell_type": "raw",
   "metadata": {},
   "source": [
    "Results for the 2019 ICDAR competition on Post-OCR Text correction can be found \n",
    "in [this paper](https://hal.archives-ouvertes.fr/hal-02304334/document). The best\n",
    "results are repeated in the tables below."
   ]
  },
  {
   "cell_type": "markdown",
   "metadata": {},
   "source": [
    "## Task 1: Token Classification\n",
    "\n",
    "### Summarized results (F-measure)\n",
    "\n",
    "Best results in **bold**.\n",
    "\n",
    "| Method | BG | CZ | DE | EN | ES | FI | FR | NL | PL | SL |\n",
    "| -- | -- | -- | -- | -- | -- | -- | -- | -- | -- | -- |\n",
    "| CCC (2019 competition winner) |  **0.77** | **0.70** | **0.95** | **0.67** | **0.69** | **0.84** | **0.67** | **0.71** | **0.82** | **0.69** |\n",
    "| Token classification with Huggingface BERT 07-02-2022 | 0.74 | 0.64 | 0.93 | 0.62 | 0.59 | 0.82 | 0.59 | 0.66 | 0.77 | 0.63 | \n",
    "\n",
    "### Token classification with Huggingface BERT 07-02-2022 \n",
    "\n",
    "* Validation set: 10% of texts (stratified on language)\n",
    "* Dataset 07-02-2022\n",
    "    * Normalized editdistance treshold for 'sentences': 0.3\n",
    "    * Sequence (sentence) lenght: 30, step: 35\n",
    "* Pretrained model: [bert-base-multilingual-cased](https://huggingface.co/bert-base-multilingual-cased)\n",
    "\n",
    "| language   |   T1_Precision |   T1_Recall |   T1_Fmesure |\n",
    "|:-----------|:---------------|:------------|:-------------|\n",
    "| BG         |       0.875714 |    0.665102 |     0.73898  |\n",
    "| CZ         |       0.81     |    0.548696 |     0.635217 |\n",
    "| DE         |       0.975809 |    0.88539  |     0.927579 |\n",
    "| EN         |       0.850833 |    0.535625 |     0.623125 |\n",
    "| ES         |       0.9068   |    0.464    |     0.591    |\n",
    "| FI         |       0.895    |    0.770125 |     0.8235   |\n",
    "| FR         |       0.806301 |    0.48875  |     0.592939 |\n",
    "| NL         |       0.870816 |    0.596939 |     0.662449 |\n",
    "| PL         |       0.8894   |    0.6982   |     0.7738   |\n",
    "| SL         |       0.805    |    0.575833 |     0.63875  |\n"
   ]
  },
  {
   "cell_type": "markdown",
   "metadata": {},
   "source": [
    "## Task 2: Error Correction - Task 1 Perfect"
   ]
  },
  {
   "cell_type": "markdown",
   "metadata": {},
   "source": [
    "## Task 2: Error Correction - Task 1 Results"
   ]
  },
  {
   "cell_type": "code",
   "execution_count": null,
   "metadata": {},
   "outputs": [],
   "source": [
    "#| hide\n",
    "import nbdev; nbdev.nbdev_export()"
   ]
  }
 ],
 "metadata": {
  "kernelspec": {
   "display_name": "Python 3.8.8 ('nlp4dutch')",
   "language": "python",
   "name": "python3"
  }
 },
 "nbformat": 4,
 "nbformat_minor": 2
}
