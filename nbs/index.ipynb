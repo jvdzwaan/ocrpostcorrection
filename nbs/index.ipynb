{
 "cells": [
  {
   "cell_type": "code",
   "execution_count": null,
   "metadata": {},
   "outputs": [],
   "source": [
    "# | hide\n",
    "from ocrpostcorrection.icdar_data import *"
   ]
  },
  {
   "cell_type": "markdown",
   "metadata": {},
   "source": [
    "# ocrpostcorrection\n",
    "\n",
    "> A Python package for doing OCR post correction"
   ]
  },
  {
   "cell_type": "markdown",
   "metadata": {},
   "source": [
    "In 2017 and 2019 a competion on [Post-OCR Text Correction](https://sites.google.com/view/icdar2019-postcorrectionocr) was organized. This repository contains my efforts in reproducing the best results and possibly improving them."
   ]
  },
  {
   "cell_type": "markdown",
   "metadata": {},
   "source": [
    "## Install"
   ]
  },
  {
   "cell_type": "markdown",
   "metadata": {},
   "source": [
    "```sh\n",
    "git clone https://github.com/jvdzwaan/ocrpostcorrection.git\n",
    "cd ocrpostcorrection\n",
    "pip install -e .\n",
    "```"
   ]
  },
  {
   "attachments": {},
   "cell_type": "markdown",
   "metadata": {},
   "source": [
    "## How to use\n",
    "\n",
    "See the [ocrpostcorrection-notebooks](https://github.com/jvdzwaan/ocrpostcorrection-notebooks) repository and [my blog](https://jvdzwaan.github.io) for usage examples. "
   ]
  }
 ],
 "metadata": {
  "kernelspec": {
   "display_name": "python3",
   "language": "python",
   "name": "python3"
  }
 },
 "nbformat": 4,
 "nbformat_minor": 4
}
