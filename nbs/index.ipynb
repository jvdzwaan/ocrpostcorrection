{
 "cells": [
  {
   "cell_type": "code",
   "execution_count": null,
   "metadata": {},
   "outputs": [],
   "source": [
    "#| hide\n",
    "from ocrpostcorrection.icdar_data import *"
   ]
  },
  {
   "cell_type": "markdown",
   "metadata": {},
   "source": [
    "# ocrpostcorrection\n",
    "\n",
    "> A Python package for doing OCR post correction"
   ]
  },
  {
   "cell_type": "markdown",
   "metadata": {},
   "source": [
    "In 2017 and 2019 a competion on [Post-OCR Text Correction](https://sites.google.com/view/icdar2019-postcorrectionocr) was organized. This repository contains my efforts in reproducing the best results and possibly improving them."
   ]
  },
  {
   "cell_type": "markdown",
   "metadata": {},
   "source": [
    "## Install"
   ]
  },
  {
   "cell_type": "markdown",
   "metadata": {},
   "source": [
    "```sh\n",
    "git clone https://github.com/jvdzwaan/ocrpostcorrection.git\n",
    "cd ocrpostcorrection\n",
    "pip install -e .\n",
    "```"
   ]
  },
  {
   "cell_type": "markdown",
   "metadata": {},
   "source": [
    "## How to use"
   ]
  },
  {
   "cell_type": "markdown",
   "metadata": {},
   "source": [
    "In addition to the package, this repository provided two sets of notebooks:\n",
    "* `local` notebooks to be run locally, e.g., for generating datasets\n",
    "* `colab` notebooks to be run on machines with a GPU, e.g., for training neural networks"
   ]
  }
 ],
 "metadata": {
  "kernelspec": {
   "display_name": "Python 3.9.7 64-bit",
   "language": "python",
   "name": "python3"
  }
 },
 "nbformat": 4,
 "nbformat_minor": 4
}
