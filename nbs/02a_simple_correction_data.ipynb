{
 "cells": [
  {
   "cell_type": "raw",
   "metadata": {},
   "source": [
    "---\n",
    "title: Simple Correction Data\n",
    "output-file: simple_correction_data.html\n",
    "description: Functionality for error correction with the simple dataset\n",
    "---"
   ]
  },
  {
   "cell_type": "code",
   "execution_count": null,
   "metadata": {},
   "outputs": [],
   "source": [
    "# | default_exp simple_correction_data"
   ]
  },
  {
   "cell_type": "code",
   "execution_count": null,
   "metadata": {},
   "outputs": [],
   "source": [
    "# | export\n",
    "from functools import partial\n",
    "\n",
    "import torch\n",
    "from torch.nn.utils.rnn import pad_sequence\n",
    "from torch.utils.data import Dataset\n",
    "from tqdm import tqdm\n",
    "\n",
    "from ocrpostcorrection.error_correction import (\n",
    "    BOS_IDX,\n",
    "    PAD_IDX,\n",
    "    generate_vocabs,\n",
    "    get_text_transform,\n",
    "    get_tokens_with_OCR_mistakes,\n",
    "    indices2string,\n",
    ")"
   ]
  },
  {
   "cell_type": "code",
   "execution_count": null,
   "metadata": {},
   "outputs": [],
   "source": [
    "# | hide\n",
    "import os\n",
    "from pathlib import Path\n",
    "\n",
    "from torch.utils.data import DataLoader\n",
    "\n",
    "from ocrpostcorrection.error_correction import SimpleCorrectionSeq2seq\n",
    "from ocrpostcorrection.icdar_data import generate_data\n",
    "from ocrpostcorrection.utils import set_seed"
   ]
  },
  {
   "cell_type": "code",
   "execution_count": null,
   "metadata": {},
   "outputs": [],
   "source": [
    "set_seed(23)"
   ]
  },
  {
   "cell_type": "code",
   "execution_count": null,
   "metadata": {},
   "outputs": [
    {
     "name": "stderr",
     "output_type": "stream",
     "text": [
      "2it [00:00, 798.15it/s]\n"
     ]
    }
   ],
   "source": [
    "data_dir = Path(os.getcwd()) / \"data\" / \"dataset_training_sample\"\n",
    "data, md = generate_data(data_dir)\n",
    "val_files = [\"en/eng_sample/2.txt\"]\n",
    "\n",
    "token_data = get_tokens_with_OCR_mistakes(data, data, val_files)\n",
    "vocab_transform = generate_vocabs(token_data.query('dataset == \"train\"'))"
   ]
  },
  {
   "cell_type": "code",
   "execution_count": null,
   "metadata": {},
   "outputs": [],
   "source": [
    "# | export\n",
    "class SimpleCorrectionDataset(Dataset):\n",
    "    def __init__(self, data, max_len=10):\n",
    "        self.ds = (\n",
    "            data.query(f\"len_ocr <= {max_len}\").query(f\"len_gs <= {max_len}\").copy()\n",
    "        )\n",
    "        self.ds = self.ds.reset_index(drop=False)\n",
    "\n",
    "    def __len__(self):\n",
    "        return self.ds.shape[0]\n",
    "\n",
    "    def __getitem__(self, idx):\n",
    "        sample = self.ds.loc[idx]\n",
    "\n",
    "        return [char for char in sample.ocr], [char for char in sample.gs]"
   ]
  },
  {
   "cell_type": "markdown",
   "metadata": {},
   "source": [
    "To create a `SimpleCorrectionDataset` with a maximum token length of 10, do:"
   ]
  },
  {
   "cell_type": "code",
   "execution_count": null,
   "metadata": {},
   "outputs": [],
   "source": [
    "dataset = SimpleCorrectionDataset(token_data.query('dataset == \"train\"'), max_len=10)"
   ]
  },
  {
   "cell_type": "markdown",
   "metadata": {},
   "source": [
    "The first sample look like this:"
   ]
  },
  {
   "cell_type": "code",
   "execution_count": null,
   "metadata": {},
   "outputs": [
    {
     "data": {
      "text/plain": [
       "(['t', 'e', 's', 't', '-', ' ', 'A', 'A', 'A'],\n",
       " ['t', 'e', 's', 't', '-', '.', 'A', 'A', 'A'])"
      ]
     },
     "execution_count": null,
     "metadata": {},
     "output_type": "execute_result"
    }
   ],
   "source": [
    "dataset[0]"
   ]
  },
  {
   "cell_type": "code",
   "execution_count": null,
   "metadata": {},
   "outputs": [],
   "source": [
    "# | export\n",
    "def collate_fn_with_text_transform(text_transform, batch):\n",
    "    \"\"\"Function to collate data samples into batch tensors, to be used as partial with instatiated text_transform\"\"\"\n",
    "    src_batch, tgt_batch = [], []\n",
    "    for src_sample, tgt_sample in batch:\n",
    "        src_batch.append(text_transform[\"ocr\"](src_sample))\n",
    "        tgt_batch.append(text_transform[\"gs\"](tgt_sample))\n",
    "\n",
    "    src_batch = pad_sequence(src_batch, padding_value=PAD_IDX)\n",
    "    tgt_batch = pad_sequence(tgt_batch, padding_value=PAD_IDX)\n",
    "\n",
    "    return src_batch.to(torch.int64), tgt_batch.to(torch.int64)\n",
    "\n",
    "\n",
    "def collate_fn(text_transform):\n",
    "    \"\"\"Function to collate data samples into batch tensors\"\"\"\n",
    "    return partial(collate_fn_with_text_transform, text_transform)"
   ]
  },
  {
   "cell_type": "code",
   "execution_count": null,
   "metadata": {},
   "outputs": [],
   "source": [
    "text_transform = get_text_transform(vocab_transform)"
   ]
  },
  {
   "cell_type": "code",
   "execution_count": null,
   "metadata": {},
   "outputs": [],
   "source": [
    "train = SimpleCorrectionDataset(token_data.query('dataset == \"train\"'), max_len=10)\n",
    "train_dataloader = DataLoader(\n",
    "    train, batch_size=5, collate_fn=collate_fn(text_transform)\n",
    ")"
   ]
  },
  {
   "cell_type": "code",
   "execution_count": null,
   "metadata": {},
   "outputs": [],
   "source": [
    "#| hide\n",
    "# Can we loop over the entire dataset?\n",
    "num_samples = 0\n",
    "for batch in train_dataloader:\n",
    "    num_samples += batch[0].shape[1]\n",
    "assert num_samples == len(train)"
   ]
  },
  {
   "cell_type": "markdown",
   "metadata": {},
   "source": [
    "## Training"
   ]
  },
  {
   "cell_type": "code",
   "execution_count": null,
   "metadata": {},
   "outputs": [],
   "source": [
    "# | export\n",
    "def validate_model(model, dataloader, device):\n",
    "    cum_loss = 0\n",
    "    cum_examples = 0\n",
    "\n",
    "    was_training = model.training\n",
    "    model.eval()\n",
    "\n",
    "    with torch.no_grad():\n",
    "        for src, tgt in dataloader:\n",
    "            src = src.to(device)\n",
    "            tgt = tgt.to(device)\n",
    "\n",
    "            batch_size = src.size(1)\n",
    "\n",
    "            encoder_hidden = model.encoder.initHidden(\n",
    "                batch_size=batch_size, device=device\n",
    "            )\n",
    "\n",
    "            example_losses, decoder_ouputs = model(src, encoder_hidden, tgt)\n",
    "            example_losses = -example_losses\n",
    "            batch_loss = example_losses.sum()\n",
    "\n",
    "            bl = batch_loss.item()\n",
    "            cum_loss += bl\n",
    "            cum_examples += batch_size\n",
    "\n",
    "    if was_training:\n",
    "        model.train()\n",
    "\n",
    "    return cum_loss / cum_examples"
   ]
  },
  {
   "cell_type": "code",
   "execution_count": null,
   "metadata": {},
   "outputs": [],
   "source": [
    "device = torch.device(\"cuda\" if torch.cuda.is_available() else \"cpu\")\n",
    "\n",
    "batch_size = 2\n",
    "hidden_size = 5\n",
    "dropout = 0.1\n",
    "max_token_len = 10\n",
    "\n",
    "model = SimpleCorrectionSeq2seq(\n",
    "    len(vocab_transform[\"ocr\"]),\n",
    "    hidden_size,\n",
    "    len(vocab_transform[\"gs\"]),\n",
    "    dropout,\n",
    "    max_token_len,\n",
    "    teacher_forcing_ratio=0.5,\n",
    "    device=device,\n",
    ")\n",
    "\n",
    "encoder_hidden = model.encoder.initHidden(batch_size=batch_size, device=device)"
   ]
  },
  {
   "cell_type": "code",
   "execution_count": null,
   "metadata": {},
   "outputs": [
    {
     "data": {
      "text/plain": [
       "25.545663621690537"
      ]
     },
     "execution_count": null,
     "metadata": {},
     "output_type": "execute_result"
    }
   ],
   "source": [
    "val = SimpleCorrectionDataset(token_data.query('dataset == \"val\"'), max_len=10)\n",
    "val_dataloader = DataLoader(val, batch_size=5, collate_fn=collate_fn(text_transform))\n",
    "\n",
    "loss = validate_model(model, val_dataloader, device)\n",
    "loss"
   ]
  },
  {
   "cell_type": "code",
   "execution_count": null,
   "metadata": {},
   "outputs": [],
   "source": [
    "# | export\n",
    "def train_model(\n",
    "    train_dl,\n",
    "    val_dl,\n",
    "    model=None,\n",
    "    optimizer=None,\n",
    "    num_epochs=5,\n",
    "    valid_niter=5000,\n",
    "    model_save_path=\"model.rar\",\n",
    "    max_num_patience=5,\n",
    "    max_num_trial=5,\n",
    "    lr_decay=0.5,\n",
    "    device=\"cpu\",\n",
    "):\n",
    "    num_iter = 0\n",
    "    report_loss = 0\n",
    "    report_examples = 0\n",
    "    val_loss_hist = []\n",
    "    num_trial = 0\n",
    "    patience = 0\n",
    "\n",
    "    model.train()\n",
    "\n",
    "    for epoch in range(1, num_epochs + 1):\n",
    "        cum_loss = 0\n",
    "        cum_examples = 0\n",
    "\n",
    "        for src, tgt in train_dl:\n",
    "            # print(f'src: {src.size()}; tgt: {tgt.size()}')\n",
    "            num_iter += 1\n",
    "\n",
    "            batch_size = src.size(1)\n",
    "\n",
    "            src = src.to(device)\n",
    "            tgt = tgt.to(device)\n",
    "            encoder_hidden = model.encoder.initHidden(\n",
    "                batch_size=batch_size, device=device\n",
    "            )\n",
    "\n",
    "            # print(input_hidden.size())\n",
    "\n",
    "            example_losses, _ = model(src, encoder_hidden, tgt)\n",
    "            example_losses = -example_losses\n",
    "            batch_loss = example_losses.sum()\n",
    "            loss = batch_loss / batch_size\n",
    "\n",
    "            bl = batch_loss.item()\n",
    "            report_loss += bl\n",
    "            report_examples += batch_size\n",
    "\n",
    "            cum_loss += bl\n",
    "            cum_examples += batch_size\n",
    "\n",
    "            optimizer.zero_grad()\n",
    "            loss.backward()\n",
    "\n",
    "            # clip gradient\n",
    "            grad_norm = torch.nn.utils.clip_grad_norm_(model.parameters(), 5.0)\n",
    "\n",
    "            optimizer.step()\n",
    "\n",
    "            if num_iter % valid_niter == 0:\n",
    "                val_loss = validate_model(model, val_dl, device)\n",
    "                print(\n",
    "                    f\"Epoch {epoch}, iter {num_iter}, avg. train loss {report_loss/report_examples}, avg. val loss {val_loss}\"\n",
    "                )\n",
    "\n",
    "                report_loss = 0\n",
    "                report_examples = 0\n",
    "\n",
    "                better_model = len(val_loss_hist) == 0 or val_loss < min(val_loss_hist)\n",
    "                if better_model:\n",
    "                    print(f\"Saving model and optimizer to {model_save_path}\")\n",
    "                    torch.save(\n",
    "                        {\n",
    "                            \"model_state_dict\": model.state_dict(),\n",
    "                            \"optimizer_state_dict\": optimizer.state_dict(),\n",
    "                        },\n",
    "                        model_save_path,\n",
    "                    )\n",
    "                elif patience < max_num_patience:\n",
    "                    patience += 1\n",
    "                    print(f\"hit patience {patience}\")\n",
    "\n",
    "                    if patience == max_num_patience:\n",
    "                        num_trial += 1\n",
    "                        print(f\"hit #{num_trial} trial\")\n",
    "                        if num_trial == max_num_trial:\n",
    "                            print(\"early stop!\")\n",
    "                            exit(0)\n",
    "\n",
    "                        # decay lr, and restore from previously best checkpoint\n",
    "                        lr = optimizer.param_groups[0][\"lr\"] * lr_decay\n",
    "                        print(\n",
    "                            f\"load previously best model and decay learning rate to {lr}\"\n",
    "                        )\n",
    "\n",
    "                        # load model\n",
    "                        checkpoint = torch.load(model_save_path)\n",
    "                        model.load_state_dict(checkpoint[\"model_state_dict\"])\n",
    "                        optimizer.load_state_dict(checkpoint[\"optimizer_state_dict\"])\n",
    "\n",
    "                        model = model.to(device)\n",
    "\n",
    "                        # set new lr\n",
    "                        for param_group in optimizer.param_groups:\n",
    "                            param_group[\"lr\"] = lr\n",
    "\n",
    "                        # reset patience\n",
    "                        patience = 0\n",
    "\n",
    "                val_loss_hist.append(val_loss)"
   ]
  },
  {
   "cell_type": "code",
   "execution_count": null,
   "metadata": {},
   "outputs": [
    {
     "name": "stdout",
     "output_type": "stream",
     "text": [
      "Epoch 1, iter 5, avg. train loss 25.21373109817505, avg. val loss 25.264954460991753\n",
      "Saving model and optimizer to /Users/janneke/code/ocrpostcorrection/nbs/data/model.rar\n",
      "Epoch 1, iter 10, avg. train loss 27.308312225341798, avg. val loss 25.19587156507704\n",
      "Saving model and optimizer to /Users/janneke/code/ocrpostcorrection/nbs/data/model.rar\n",
      "Epoch 2, iter 15, avg. train loss 25.64889602661133, avg. val loss 25.134972466362846\n",
      "Saving model and optimizer to /Users/janneke/code/ocrpostcorrection/nbs/data/model.rar\n",
      "Epoch 2, iter 20, avg. train loss 26.240159034729004, avg. val loss 25.078634050157333\n",
      "Saving model and optimizer to /Users/janneke/code/ocrpostcorrection/nbs/data/model.rar\n",
      "Epoch 2, iter 25, avg. train loss 22.31423110961914, avg. val loss 25.014130486382378\n",
      "Saving model and optimizer to /Users/janneke/code/ocrpostcorrection/nbs/data/model.rar\n"
     ]
    }
   ],
   "source": [
    "train = SimpleCorrectionDataset(token_data.query('dataset == \"train\"'), max_len=10)\n",
    "train_dataloader = DataLoader(\n",
    "    train, batch_size=2, collate_fn=collate_fn(text_transform), shuffle=True\n",
    ")\n",
    "\n",
    "val = SimpleCorrectionDataset(token_data.query('dataset == \"val\"'), max_len=10)\n",
    "val_dataloader = DataLoader(val, batch_size=3, collate_fn=collate_fn(text_transform))\n",
    "\n",
    "hidden_size = 5\n",
    "model = SimpleCorrectionSeq2seq(\n",
    "    len(vocab_transform[\"ocr\"]),\n",
    "    hidden_size,\n",
    "    len(vocab_transform[\"gs\"]),\n",
    "    0.1,\n",
    "    10,\n",
    "    teacher_forcing_ratio=0.0,\n",
    ")\n",
    "model.to(device)\n",
    "optimizer = torch.optim.Adam(model.parameters())\n",
    "\n",
    "msp = Path(os.getcwd()) / \"data\" / \"model.rar\"\n",
    "\n",
    "train_model(\n",
    "    train_dl=train_dataloader,\n",
    "    val_dl=val_dataloader,\n",
    "    model=model,\n",
    "    optimizer=optimizer,\n",
    "    model_save_path=msp,\n",
    "    num_epochs=2,\n",
    "    valid_niter=5,\n",
    "    max_num_patience=5,\n",
    "    max_num_trial=5,\n",
    "    lr_decay=0.5,\n",
    ")"
   ]
  },
  {
   "cell_type": "markdown",
   "metadata": {},
   "source": [
    "## Inference / prediction"
   ]
  },
  {
   "cell_type": "markdown",
   "metadata": {},
   "source": [
    "https://pytorch.org/tutorials/beginner/chatbot_tutorial.html?highlight=greedy%20decoding"
   ]
  },
  {
   "cell_type": "code",
   "execution_count": null,
   "metadata": {},
   "outputs": [],
   "source": [
    "# | export\n",
    "\n",
    "\n",
    "class GreedySearchDecoder(torch.nn.Module):\n",
    "    def __init__(self, model):\n",
    "        super(GreedySearchDecoder, self).__init__()\n",
    "        self.max_length = model.max_length\n",
    "        self.encoder = model.encoder\n",
    "        self.decoder = model.decoder\n",
    "\n",
    "        self.device = model.device\n",
    "\n",
    "    def forward(self, input, target):\n",
    "        # input is src seq len x batch size\n",
    "        # input voor de encoder (1 stap) moet zijn input seq len x batch size x 1\n",
    "        input_tensor = input.unsqueeze(2)\n",
    "        # print('input tensor size', input_tensor.size())\n",
    "\n",
    "        input_length = input.size(0)\n",
    "\n",
    "        batch_size = input.size(1)\n",
    "        encoder_hidden = self.encoder.initHidden(batch_size, self.device)\n",
    "        print(encoder_hidden.size())\n",
    "\n",
    "        # Encoder part\n",
    "        encoder_outputs = torch.zeros(\n",
    "            batch_size, self.max_length, self.encoder.hidden_size, device=self.device\n",
    "        )\n",
    "        # print('encoder outputs size', encoder_outputs.size())\n",
    "\n",
    "        for ei in range(input_length):\n",
    "            # print(f'Index {ei}; input size: {input_tensor[ei].size()}; encoder hidden size: {encoder_hidden.size()}')\n",
    "            encoder_output, encoder_hidden = self.encoder(\n",
    "                input_tensor[ei], encoder_hidden\n",
    "            )\n",
    "            # print('Index', ei)\n",
    "            # print('encoder output size', encoder_output.size())\n",
    "            # print('encoder outputs size', encoder_outputs.size())\n",
    "            # print('output selection size', encoder_output[:, 0].size())\n",
    "            # print('ouput to save', encoder_outputs[:,ei].size())\n",
    "            encoder_outputs[:, ei] = encoder_output[0, 0]\n",
    "\n",
    "        # print('encoder outputs', encoder_outputs)\n",
    "        # print('encoder hidden', encoder_hidden)\n",
    "\n",
    "        # Decoder part\n",
    "        # Target = seq len x batch size\n",
    "        # Decoder input moet zijn: batch_size x 1 (van het eerste token = BOS)\n",
    "        target_length = target.size(0)\n",
    "\n",
    "        decoder_input = torch.tensor(\n",
    "            [[BOS_IDX] for _ in range(batch_size)], device=self.device\n",
    "        )\n",
    "        # print('decoder input size', decoder_input.size())\n",
    "\n",
    "        all_tokens = torch.zeros(\n",
    "            batch_size, self.max_length, device=self.device, dtype=torch.long\n",
    "        )\n",
    "        # print('all_tokens size', all_tokens.size())\n",
    "        decoder_hidden = encoder_hidden\n",
    "\n",
    "        for di in range(target_length):\n",
    "            decoder_output, decoder_hidden, decoder_attention = self.decoder(\n",
    "                decoder_input, decoder_hidden, encoder_outputs\n",
    "            )\n",
    "            # Without teacher forcing: use its own predictions as the next input\n",
    "            topv, topi = decoder_output.topk(1)\n",
    "            decoder_input = topi.detach()  # detach from history as input\n",
    "            # print('decoder input size:', decoder_input.size())\n",
    "            # print('decoder input squeezed', decoder_input.clone().squeeze())\n",
    "\n",
    "            # Record token\n",
    "            all_tokens[:, di] = decoder_input.clone().squeeze(1)\n",
    "            # print('all_tokens', all_tokens)\n",
    "\n",
    "        return all_tokens"
   ]
  },
  {
   "cell_type": "code",
   "execution_count": null,
   "metadata": {},
   "outputs": [
    {
     "name": "stdout",
     "output_type": "stream",
     "text": [
      "torch.Size([1, 5, 5])\n",
      "tensor([[27, 27, 27, 17,  7, 17,  7,  7, 17, 27,  0],\n",
      "        [18, 27, 27, 27, 27, 27, 17, 17, 27, 17,  0],\n",
      "        [18,  3, 18, 27, 17, 26, 27, 27, 27, 27,  0],\n",
      "        [18, 26, 27, 18, 27, 27, 27, 27, 27, 27,  0],\n",
      "        [ 6, 27, 27, 27, 27, 17, 17,  7, 17,  7,  0]])\n",
      "torch.Size([1, 5, 5])\n",
      "torch.Size([5, 11])\n",
      "torch.Size([1, 5, 5])\n",
      "torch.Size([5, 11])\n",
      "torch.Size([1, 5, 5])\n",
      "torch.Size([5, 11])\n",
      "torch.Size([1, 5, 5])\n",
      "torch.Size([5, 11])\n",
      "torch.Size([1, 5, 5])\n",
      "torch.Size([5, 11])\n",
      "torch.Size([1, 5, 5])\n",
      "torch.Size([5, 11])\n"
     ]
    }
   ],
   "source": [
    "decoder = GreedySearchDecoder(model)\n",
    "\n",
    "max_len = 10\n",
    "\n",
    "test = SimpleCorrectionDataset(token_data.query('dataset == \"test\"'), max_len=max_len)\n",
    "test_dataloader = DataLoader(test, batch_size=5, collate_fn=collate_fn(text_transform))\n",
    "\n",
    "with torch.no_grad():\n",
    "    for i, (src, tgt) in enumerate(test_dataloader):\n",
    "        predicted_indices = decoder(src, tgt)\n",
    "        if i == 0:\n",
    "            print(predicted_indices)\n",
    "        else:\n",
    "            print(predicted_indices.size())"
   ]
  },
  {
   "cell_type": "code",
   "execution_count": null,
   "metadata": {},
   "outputs": [],
   "source": [
    "# | export\n",
    "def predict_and_convert_to_str(model, dataloader, tgt_vocab, device):\n",
    "    was_training = model.training\n",
    "    model.eval()\n",
    "\n",
    "    decoder = GreedySearchDecoder(model)\n",
    "\n",
    "    itos = tgt_vocab.get_itos()\n",
    "    output_strings = []\n",
    "\n",
    "    with torch.no_grad():\n",
    "        for src, tgt in tqdm(dataloader):\n",
    "            src = src.to(device)\n",
    "            tgt = tgt.to(device)\n",
    "\n",
    "            predicted_indices = decoder(src, tgt)\n",
    "\n",
    "            strings_batch = indices2string(predicted_indices, itos)\n",
    "            for s in strings_batch:\n",
    "                output_strings.append(s)\n",
    "\n",
    "    if was_training:\n",
    "        model.train()\n",
    "\n",
    "    return output_strings"
   ]
  },
  {
   "cell_type": "code",
   "execution_count": null,
   "metadata": {},
   "outputs": [
    {
     "name": "stderr",
     "output_type": "stream",
     "text": [
      "100%|██████████| 7/7 [00:00<00:00, 352.93it/s]"
     ]
    },
    {
     "name": "stdout",
     "output_type": "stream",
     "text": [
      "torch.Size([1, 5, 5])\n",
      "torch.Size([1, 5, 5])\n",
      "torch.Size([1, 5, 5])\n",
      "torch.Size([1, 5, 5])\n",
      "torch.Size([1, 5, 5])\n",
      "torch.Size([1, 5, 5])\n",
      "torch.Size([1, 5, 5])\n"
     ]
    },
    {
     "name": "stderr",
     "output_type": "stream",
     "text": [
      "\n"
     ]
    },
    {
     "data": {
      "text/plain": [
       "['mmmmmmmmmm', 'Fmmmmmmmmm', 'Fmmmmmmmmm']"
      ]
     },
     "execution_count": null,
     "metadata": {},
     "output_type": "execute_result"
    }
   ],
   "source": [
    "output_strings = predict_and_convert_to_str(\n",
    "    model, test_dataloader, vocab_transform[\"gs\"], device\n",
    ")\n",
    "output_strings[0:3]"
   ]
  },
  {
   "cell_type": "code",
   "execution_count": null,
   "metadata": {},
   "outputs": [],
   "source": [
    "max_len = 10\n",
    "test_data = (\n",
    "    token_data.query('dataset == \"test\"')\n",
    "    .query(f\"len_ocr <= {max_len}\")\n",
    "    .query(f\"len_gs <= {max_len}\")\n",
    "    .copy()\n",
    ")\n",
    "\n",
    "test_data[\"pred\"] = output_strings"
   ]
  },
  {
   "cell_type": "code",
   "execution_count": null,
   "metadata": {},
   "outputs": [],
   "source": [
    "# | hide\n",
    "import nbdev\n",
    "\n",
    "nbdev.nbdev_export()"
   ]
  }
 ],
 "metadata": {
  "kernelspec": {
   "display_name": "python3",
   "language": "python",
   "name": "python3"
  }
 },
 "nbformat": 4,
 "nbformat_minor": 2
}
