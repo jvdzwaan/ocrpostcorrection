{
 "cells": [
  {
   "cell_type": "raw",
   "metadata": {},
   "source": [
    "---\n",
    "title: Token Classification\n",
    "output-file: token_classification.html\n",
    "description: Functionality for token classification (task 1)\n",
    "---"
   ]
  },
  {
   "cell_type": "code",
   "execution_count": null,
   "metadata": {},
   "outputs": [],
   "source": [
    "#|default_exp token_classification"
   ]
  },
  {
   "cell_type": "code",
   "execution_count": null,
   "metadata": {},
   "outputs": [],
   "source": [
    "#| export\n",
    "import re\n",
    "from functools import partial\n",
    "from collections import defaultdict, Counter\n",
    "\n",
    "from loguru import logger\n",
    "from transformers import AutoTokenizer"
   ]
  },
  {
   "cell_type": "code",
   "execution_count": null,
   "metadata": {},
   "outputs": [],
   "source": [
    "from ocrpostcorrection.icdar_data import InputToken"
   ]
  },
  {
   "cell_type": "code",
   "execution_count": null,
   "metadata": {},
   "outputs": [],
   "source": [
    "#| export\n",
    "bert_base_model_name = 'bert-base-multilingual-cased'\n",
    "\n",
    "tokenizer = AutoTokenizer.from_pretrained(bert_base_model_name)"
   ]
  },
  {
   "cell_type": "markdown",
   "metadata": {},
   "source": [
    "# Tokenization"
   ]
  },
  {
   "cell_type": "code",
   "execution_count": null,
   "metadata": {},
   "outputs": [],
   "source": [
    "#| export\n",
    "def tokenize_and_align_labels_with_tokenizer(tokenizer, examples):\n",
    "    \"\"\"Tokenize function, to be used as partial with instatiated tokenizer\"\"\"\n",
    "    # Source: https://huggingface.co/docs/transformers/custom_datasets#token-classification-with-wnut-emerging-entities\n",
    "    tokenized_inputs = tokenizer(examples[\"tokens\"], truncation=True, is_split_into_words=True)\n",
    "\n",
    "    labels = []\n",
    "    for i, label in enumerate(examples[f\"tags\"]):\n",
    "        word_ids = tokenized_inputs.word_ids(batch_index=i)  # Map tokens to their respective word.\n",
    "        previous_word_idx = None\n",
    "        label_ids = []\n",
    "        for word_idx in word_ids:                            # Set the special tokens to -100.\n",
    "            if word_idx is None:\n",
    "                label_ids.append(-100)\n",
    "            elif word_idx != previous_word_idx:              # Only label the first token of a given word.\n",
    "                label_ids.append(label[word_idx])\n",
    "\n",
    "        labels.append(label_ids)\n",
    "\n",
    "    tokenized_inputs[\"labels\"] = labels\n",
    "\n",
    "    return tokenized_inputs"
   ]
  },
  {
   "cell_type": "code",
   "execution_count": null,
   "metadata": {},
   "outputs": [],
   "source": [
    "#| export\n",
    "def tokenize_and_align_labels(examples):\n",
    "    \"\"\"Function to tokenize samples and align the labels\"\"\"\"\"\n",
    "    return partial(tokenize_and_align_labels_with_tokenizer, tokenizer)"
   ]
  },
  {
   "cell_type": "markdown",
   "metadata": {},
   "source": [
    "# Convert predictions into ICDAR output format\n",
    "\n",
    "TODO: functions below need some fixing!"
   ]
  },
  {
   "cell_type": "code",
   "execution_count": null,
   "metadata": {},
   "outputs": [],
   "source": [
    "#| export\n",
    "\n",
    "def convert_predictions(samples, predictions, tokenizer):\n",
    "    \"\"\"Convert predictions for subwords into predictions for words\"\"\"\n",
    "    #print('samples', len(samples))\n",
    "    #print(samples)\n",
    "    #print(samples[0].keys())\n",
    "    #for sample in samples:\n",
    "    #    print(sample.keys()) \n",
    "\n",
    "    tokenized_samples = tokenizer(samples[\"tokens\"], truncation=True, is_split_into_words=True)\n",
    "    #print(samples)\n",
    "\n",
    "    #for sample in samples:\n",
    "    #    print(sample.keys())\n",
    "    \n",
    "    # convert predictions to labels (label_ids)\n",
    "    #p = np.argmax(pred.predictions, axis=2)\n",
    "    #print(p)\n",
    "\n",
    "    converted = defaultdict(dict)\n",
    "\n",
    "    for i, (sample, preds) in enumerate(zip(samples, predictions)):\n",
    "        #print(sample.keys())\n",
    "        #label = sample['tags']\n",
    "        #print(label)\n",
    "        #print(len(preds), preds)\n",
    "        word_ids = tokenized_samples.word_ids(batch_index=i)  # Map tokens to their respective word.\n",
    "        #print(len(word_ids), word_ids)\n",
    "        result = defaultdict(list)\n",
    "        for word_idx, p_label in zip(word_ids, preds):\n",
    "            #print(word_idx, p_label)\n",
    "            if word_idx is not None:\n",
    "                result[word_idx].append(p_label)\n",
    "        \n",
    "        new_tags = []\n",
    "        for word_idx, preds in result.items():\n",
    "            new_tag = 0\n",
    "            c = Counter(preds)\n",
    "            #print(c)\n",
    "            if c[1] > 0 and c[1] >= c[2]:\n",
    "                new_tag = 1\n",
    "            elif c[2] > 0 and c[2] >= c[1]:\n",
    "                new_tag = 2\n",
    "            \n",
    "            new_tags.append(new_tag)\n",
    "\n",
    "        #print('pred', len(new_tags), new_tags)\n",
    "        #print('tags', len(label), label)\n",
    "        \n",
    "        #print(sample)\n",
    "        #print(sample['key'], sample['start_token_id'])\n",
    "        converted[sample['key']][sample['start_token_id']] = new_tags\n",
    "\n",
    "    return converted"
   ]
  },
  {
   "cell_type": "code",
   "execution_count": null,
   "metadata": {},
   "outputs": [],
   "source": [
    "#| export\n",
    "\n",
    "def extract_icdar_output(label_str, input_tokens):\n",
    "    #print(label_str, input_tokens)\n",
    "    #print(len(label_str), len(input_tokens))\n",
    "    text_output = {}\n",
    "\n",
    "    # Correct use of 2 (always following a 1)\n",
    "    regex = r'12*'\n",
    "\n",
    "    for match in re.finditer(regex, label_str):\n",
    "        #print(match)\n",
    "        #print(match.group())\n",
    "        num_tokens = len(match.group())\n",
    "        #print(match.start(), len(input_tokens))\n",
    "        idx = input_tokens[match.start()].start\n",
    "        text_output[f'{idx}:{num_tokens}'] = {}\n",
    "\n",
    "    # Incorrect use of 2 (following a 0) -> interpret first 2 as 1\n",
    "    regex = r'02+'\n",
    "\n",
    "    for match in re.finditer(regex, label_str):\n",
    "        #print(match)\n",
    "        #print(match.group())\n",
    "        num_tokens = len(match.group()) - 1\n",
    "        idx = input_tokens[match.start()+1].start\n",
    "        text_output[f'{idx}:{num_tokens}'] = {}\n",
    "    \n",
    "    return text_output"
   ]
  },
  {
   "cell_type": "code",
   "execution_count": null,
   "metadata": {},
   "outputs": [],
   "source": [
    "#| hide\n",
    "label_str = '1'\n",
    "input_tokens = [InputToken(ocr='bal', gs='bla', start=0, len_ocr=3, label=1)]\n",
    "output = extract_icdar_output(label_str, input_tokens)\n",
    "assert output == {'0:1': {}}, output"
   ]
  },
  {
   "cell_type": "code",
   "execution_count": null,
   "metadata": {},
   "outputs": [],
   "source": [
    "#| hide\n",
    "label_str = '01'\n",
    "input_tokens = [InputToken(ocr='one', gs='one', start=0, len_ocr=3, label=0),\n",
    "                InputToken(ocr='tow', gs='two', start=4, len_ocr=3, label=1)]\n",
    "output = extract_icdar_output(label_str, input_tokens)\n",
    "assert output == {'4:1': {}}, output"
   ]
  },
  {
   "cell_type": "code",
   "execution_count": null,
   "metadata": {},
   "outputs": [],
   "source": [
    "#| hide\n",
    "label_str = '12'\n",
    "input_tokens = [InputToken(ocr='one', gs='one', start=0, len_ocr=3, label=0),\n",
    "                InputToken(ocr='tow', gs='two', start=4, len_ocr=3, label=1)]\n",
    "output = extract_icdar_output(label_str, input_tokens)\n",
    "assert output == {'0:2': {}}, output"
   ]
  },
  {
   "cell_type": "code",
   "execution_count": null,
   "metadata": {},
   "outputs": [],
   "source": [
    "#| hide\n",
    "label_str = '112'\n",
    "input_tokens = [InputToken(ocr='one', gs='one', start=0, len_ocr=3, label=0),\n",
    "                InputToken(ocr='one', gs='one', start=4, len_ocr=3, label=0),\n",
    "                InputToken(ocr='tow', gs='two', start=8, len_ocr=3, label=1)]\n",
    "output = extract_icdar_output(label_str, input_tokens)\n",
    "assert output == {'0:1': {}, '4:2': {}}, output"
   ]
  },
  {
   "cell_type": "code",
   "execution_count": null,
   "metadata": {},
   "outputs": [],
   "source": [
    "#| hide\n",
    "label_str = '02'\n",
    "input_tokens = [InputToken(ocr='one', gs='one', start=0, len_ocr=3, label=0),\n",
    "                InputToken(ocr='tow', gs='two', start=4, len_ocr=3, label=1)]\n",
    "output = extract_icdar_output(label_str, input_tokens)\n",
    "assert output == {'4:1': {}}, output"
   ]
  },
  {
   "cell_type": "code",
   "execution_count": null,
   "metadata": {},
   "outputs": [],
   "source": [
    "#| export\n",
    "\n",
    "def generate_icdar_output(dataset, result, data_test):\n",
    "    output = {}\n",
    "\n",
    "    for key, preds in result.items():\n",
    "        labels = defaultdict(list)\n",
    "        #print(key)\n",
    "        try:\n",
    "            text = data_test[key]\n",
    "            #print(len(text.input_tokens))\n",
    "            #print(preds)\n",
    "            for start, lbls in preds.items():\n",
    "                for i, label in enumerate(lbls):\n",
    "                    labels[int(start)+i].append(label)\n",
    "            #print('LABELS')\n",
    "            #print(labels)\n",
    "\n",
    "            label_str = []\n",
    "\n",
    "            for i, token in enumerate(text.input_tokens):\n",
    "                #print(i, token, labels[i])\n",
    "                if 2 in labels[i]:\n",
    "                    label_str.append('2')\n",
    "                elif 1 in labels[i]:\n",
    "                    label_str.append('1')\n",
    "                else:\n",
    "                    label_str.append('0')\n",
    "            label_str = ''.join(label_str)\n",
    "\n",
    "            #print('LABEL STR')\n",
    "            #print(label_str)\n",
    "\n",
    "            output[key] = extract_icdar_output(label_str, text.input_tokens)\n",
    "        except KeyError:\n",
    "            logger.warning(f'No data found for text {key}')\n",
    "    return output\n"
   ]
  },
  {
   "cell_type": "code",
   "execution_count": null,
   "metadata": {},
   "outputs": [],
   "source": [
    "#| hide\n",
    "import nbdev; nbdev.nbdev_export()"
   ]
  }
 ],
 "metadata": {
  "kernelspec": {
   "display_name": "Python 3.8.5 ('nlp4dutch')",
   "language": "python",
   "name": "python3"
  }
 },
 "nbformat": 4,
 "nbformat_minor": 2
}
