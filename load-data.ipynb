{
 "metadata": {
  "language_info": {
   "codemirror_mode": {
    "name": "ipython",
    "version": 3
   },
   "file_extension": ".py",
   "mimetype": "text/x-python",
   "name": "python",
   "nbconvert_exporter": "python",
   "pygments_lexer": "ipython3",
   "version": "3.8.5"
  },
  "orig_nbformat": 2,
  "kernelspec": {
   "name": "python3",
   "display_name": "Python 3.8.5 64-bit ('nlp4dutch': conda)",
   "metadata": {
    "interpreter": {
     "hash": "1fa962b3271c92d5bbb9f388fd57cca0da7673b4fedc1b84f54d72b9319215d1"
    }
   }
  }
 },
 "nbformat": 4,
 "nbformat_minor": 2,
 "cells": [
  {
   "cell_type": "code",
   "execution_count": 1,
   "metadata": {},
   "outputs": [],
   "source": [
    "%load_ext autoreload\n",
    "%autoreload 2"
   ]
  },
  {
   "cell_type": "code",
   "execution_count": 2,
   "metadata": {},
   "outputs": [],
   "source": [
    "%matplotlib inline\n",
    "\n",
    "import numpy as np\n",
    "import pandas as pd\n",
    "import matplotlib.pyplot as plt\n",
    "\n",
    "from pathlib import Path\n",
    "\n",
    "from tqdm.notebook import tqdm"
   ]
  },
  {
   "cell_type": "code",
   "execution_count": 3,
   "metadata": {},
   "outputs": [],
   "source": [
    "import os\n",
    "os.environ['LOGURU_LEVEL'] = 'INFO'"
   ]
  },
  {
   "cell_type": "code",
   "execution_count": 4,
   "metadata": {},
   "outputs": [],
   "source": [
    "import logging\n",
    "\n",
    "from loguru import logger\n",
    "\n",
    "class InterceptHandler(logging.Handler):\n",
    "    def emit(self, record):\n",
    "        # Get corresponding Loguru level if it exists\n",
    "        try:\n",
    "            level = logger.level(record.levelname).name\n",
    "        except ValueError:\n",
    "            level = record.levelno\n",
    "\n",
    "        # Find caller from where originated the logged message\n",
    "        frame, depth = logging.currentframe(), 2\n",
    "        while frame.f_code.co_filename == logging.__file__:\n",
    "            frame = frame.f_back\n",
    "            depth += 1\n",
    "\n",
    "        logger.opt(depth=depth, exception=record.exc_info).log(level, record.getMessage())\n",
    "\n",
    "logging.basicConfig(handlers=[InterceptHandler()], level=0)"
   ]
  },
  {
   "cell_type": "code",
   "execution_count": 5,
   "metadata": {},
   "outputs": [
    {
     "output_type": "execute_result",
     "data": {
      "text/plain": [
       "True"
      ]
     },
     "metadata": {},
     "execution_count": 5
    }
   ],
   "source": [
    "in_dir = Path('../../data/ICDAR2019_POCR_competition_dataset/ICDAR2019_POCR_competition_training_18M_without_Finnish')\n",
    "in_dir.is_dir()"
   ]
  },
  {
   "cell_type": "code",
   "execution_count": 6,
   "metadata": {},
   "outputs": [],
   "source": [
    "with open(in_dir/'NL'/'NL1'/'17.txt') as f:\n",
    "    lines = f.readlines()"
   ]
  },
  {
   "cell_type": "code",
   "execution_count": 7,
   "metadata": {},
   "outputs": [],
   "source": [
    "def remove_label_and_nl(line):\n",
    "    return line.strip()[14:]\n",
    "\n",
    "ocr_aligned = remove_label_and_nl(lines[1])\n",
    "gs_aligned = remove_label_and_nl(lines[2])"
   ]
  },
  {
   "cell_type": "code",
   "execution_count": 9,
   "metadata": {
    "tags": []
   },
   "outputs": [],
   "source": [
    "from dataclasses import dataclass, field\n",
    "import edlib\n",
    "\n",
    "def normalized_ed(ed, ocr, gs):\n",
    "    score = 0.0\n",
    "    l = max(len(ocr), len(gs))\n",
    "    if l > 0:\n",
    "        score = ed / l\n",
    "    return score\n",
    "\n",
    "\n",
    "@dataclass\n",
    "class Token:\n",
    "    ocr: str\n",
    "    gs: str\n",
    "    ocr_aligned: str\n",
    "    gs_aligned: str\n",
    "    start: int\n",
    "    ed: int\n",
    "    score: float = field(init=False)\n",
    "\n",
    "    def __post_init__(self):\n",
    "        self.score = normalized_ed(self.ed, self.ocr_aligned, self.gs_aligned)\n",
    "        \n",
    "\n",
    "\n",
    "def tokenize_aligned(ocr_aligned, gs_aligned, sentence_start=0):\n",
    "\n",
    "    ocr_cursor = 0\n",
    "\n",
    "    ocr_token_chars = []\n",
    "    gs_token_chars = []\n",
    "    ocr_token_chars_aligned = []\n",
    "    gs_token_chars_aligned = []\n",
    "    start_char = 0\n",
    "\n",
    "    tokens = []\n",
    "\n",
    "    for ocr_aligned_char, gs_aligned_char in zip(ocr_aligned, gs_aligned):\n",
    "        #print(ocr_aligned_char, gs_aligned_char, ocr_cursor)\n",
    "        if ocr_aligned_char != '@':\n",
    "            ocr_cursor += 1\n",
    "\n",
    "        if ocr_aligned_char == ' ' and gs_aligned_char == ' ':\n",
    "            #print('TOKEN')\n",
    "            #print('OCR:', repr(''.join(ocr_token_chars)))\n",
    "            #print(' GS:', repr(''.join(gs_token_chars)))\n",
    "            #print('start:', start_char)\n",
    "\n",
    "            ed = edlib.align(''.join(ocr_token_chars_aligned), ''.join(gs_token_chars_aligned))\n",
    "\n",
    "            tokens.append(Token(''.join(ocr_token_chars), \n",
    "                                ''.join(gs_token_chars), \n",
    "                                ''.join(ocr_token_chars_aligned), \n",
    "                                ''.join(gs_token_chars_aligned), \n",
    "                                sentence_start+start_char,\n",
    "                                ed['editDistance']))\n",
    "\n",
    "            ocr_token_chars = []\n",
    "            gs_token_chars = []\n",
    "            ocr_token_chars_aligned = []\n",
    "            gs_token_chars_aligned = []\n",
    "            start_char = ocr_cursor\n",
    "        else:\n",
    "            # TODO: handle # in gs(?)\n",
    "            ocr_token_chars_aligned.append(ocr_aligned_char)\n",
    "            gs_token_chars_aligned.append(gs_aligned_char)\n",
    "            if ocr_aligned_char != '@':\n",
    "                ocr_token_chars.append(ocr_aligned_char)\n",
    "            if gs_aligned_char != '@':\n",
    "                gs_token_chars.append(gs_aligned_char)\n",
    "    ed = edlib.align(''.join(ocr_token_chars_aligned), ''.join(gs_token_chars_aligned))\n",
    "    tokens.append(Token(''.join(ocr_token_chars), \n",
    "                        ''.join(gs_token_chars), \n",
    "                        ''.join(ocr_token_chars_aligned), \n",
    "                        ''.join(gs_token_chars_aligned), \n",
    "                        sentence_start+start_char,\n",
    "                        ed['editDistance']))\n",
    "\n",
    "    return tokens\n",
    "\n",
    "tokens = tokenize_aligned(ocr_aligned, gs_aligned)"
   ]
  },
  {
   "cell_type": "code",
   "execution_count": 10,
   "metadata": {},
   "outputs": [
    {
     "output_type": "stream",
     "name": "stdout",
     "text": [
      "Token(ocr='S\\\\£.', gs='N°.', ocr_aligned='S\\\\£.', gs_aligned='@N°.', start=32, ed=3, score=0.75)\n"
     ]
    }
   ],
   "source": [
    "print(tokens[3])"
   ]
  },
  {
   "cell_type": "code",
   "execution_count": 14,
   "metadata": {
    "tags": []
   },
   "outputs": [],
   "source": [
    "import nltk.data\n",
    "import edlib\n",
    "\n",
    "@dataclass\n",
    "class Sentence:\n",
    "    ocr: str\n",
    "    gs: str\n",
    "    ocr_aligned: str\n",
    "    gs_aligned: str\n",
    "    start: int\n",
    "    tokens: list\n",
    "    ed: int\n",
    "    score: float = field(init=False)\n",
    "\n",
    "    def __post_init__(self):\n",
    "        self.score = normalized_ed(self.ed, self.ocr_aligned, self.gs_aligned)\n",
    "\n",
    "\n",
    "def clean(string):\n",
    "    string = string.replace('@', '')\n",
    "    string = string.replace('#', '')\n",
    "\n",
    "    return string\n",
    "\n",
    "def extract_sentences(in_file):\n",
    "    with open(in_file) as f:\n",
    "        lines = f.readlines()\n",
    "\n",
    "    ocr_aligned = remove_label_and_nl(lines[1])\n",
    "    gs_aligned = remove_label_and_nl(lines[2])\n",
    "\n",
    "    sentences = []\n",
    "    sent_detector = nltk.data.load('tokenizers/punkt/english.pickle')\n",
    "\n",
    "    for i, (start, end) in enumerate(sent_detector.span_tokenize(gs_aligned)):\n",
    "        gs_sentence = gs_aligned[start: end]\n",
    "        ocr_sentence = ocr_aligned[start: end]\n",
    "        #print(start, end)\n",
    "        #print(gs_sentence)\n",
    "        #print(ocr_sentence)\n",
    "\n",
    "        ed = edlib.align(ocr_sentence, gs_sentence)\n",
    "        \n",
    "\n",
    "        tokens = tokenize_aligned(ocr_sentence, gs_sentence, sentence_start=start)\n",
    "        sent = Sentence(clean(ocr_sentence), clean(gs_sentence), ocr_sentence, gs_sentence, start, tokens, ed['editDistance'])\n",
    "        sentences.append(sent)\n",
    "    return sentences"
   ]
  },
  {
   "cell_type": "code",
   "execution_count": 15,
   "metadata": {},
   "outputs": [],
   "source": [
    "sentences = extract_sentences(in_dir/'NL'/'NL1'/'17.txt')"
   ]
  },
  {
   "cell_type": "code",
   "execution_count": 16,
   "metadata": {},
   "outputs": [
    {
     "output_type": "execute_result",
     "data": {
      "text/plain": [
       "Sentence(ocr='Europijcbe Donderdaeghs Courant S\\\\£.', gs=' Europische Donderdaeghs Courant N°.', ocr_aligned='@Europijcbe Donderdaeghs Courant S\\\\£.', gs_aligned=' Europische Donderdaeghs Courant @N°.', start=0, tokens=[Token(ocr='Europijcbe', gs=' Europische', ocr_aligned='@Europijcbe', gs_aligned=' Europische', start=0, ed=3, score=0.2727272727272727), Token(ocr='Donderdaeghs', gs='Donderdaeghs', ocr_aligned='Donderdaeghs', gs_aligned='Donderdaeghs', start=11, ed=0, score=0.0), Token(ocr='Courant', gs='Courant', ocr_aligned='Courant', gs_aligned='Courant', start=24, ed=0, score=0.0), Token(ocr='S\\\\£.', gs='N°.', ocr_aligned='S\\\\£.', gs_aligned='@N°.', start=32, ed=3, score=0.75)], ed=6, score=0.16216216216216217)"
      ]
     },
     "metadata": {},
     "execution_count": 16
    }
   ],
   "source": [
    "sentences[0]"
   ]
  },
  {
   "cell_type": "code",
   "execution_count": 17,
   "metadata": {
    "tags": []
   },
   "outputs": [
    {
     "output_type": "display_data",
     "data": {
      "text/plain": "HBox(children=(FloatProgress(value=1.0, bar_style='info', description='SL', layout=Layout(width='20px'), max=1…",
      "application/vnd.jupyter.widget-view+json": {
       "version_major": 2,
       "version_minor": 0,
       "model_id": "54f6a3e5a7f241279b93f7732222eeff"
      }
     },
     "metadata": {}
    },
    {
     "output_type": "stream",
     "name": "stdout",
     "text": [
      "\n"
     ]
    },
    {
     "output_type": "display_data",
     "data": {
      "text/plain": "HBox(children=(FloatProgress(value=1.0, bar_style='info', description='PL', layout=Layout(width='20px'), max=1…",
      "application/vnd.jupyter.widget-view+json": {
       "version_major": 2,
       "version_minor": 0,
       "model_id": "6b733a9b2f9d484c8ef761a2001fbc05"
      }
     },
     "metadata": {}
    },
    {
     "output_type": "stream",
     "name": "stdout",
     "text": [
      "\n"
     ]
    },
    {
     "output_type": "display_data",
     "data": {
      "text/plain": "HBox(children=(FloatProgress(value=1.0, bar_style='info', description='CZ', layout=Layout(width='20px'), max=1…",
      "application/vnd.jupyter.widget-view+json": {
       "version_major": 2,
       "version_minor": 0,
       "model_id": "12e18f07932148729897f3f3d305dfdf"
      }
     },
     "metadata": {}
    },
    {
     "output_type": "stream",
     "name": "stdout",
     "text": [
      "\n"
     ]
    },
    {
     "output_type": "display_data",
     "data": {
      "text/plain": "HBox(children=(FloatProgress(value=1.0, bar_style='info', description='NL', layout=Layout(width='20px'), max=1…",
      "application/vnd.jupyter.widget-view+json": {
       "version_major": 2,
       "version_minor": 0,
       "model_id": "f1db7afb688941e4a41c1d5a37fdc71b"
      }
     },
     "metadata": {}
    },
    {
     "output_type": "stream",
     "name": "stdout",
     "text": [
      "\n"
     ]
    },
    {
     "output_type": "display_data",
     "data": {
      "text/plain": "HBox(children=(FloatProgress(value=1.0, bar_style='info', description='BG', layout=Layout(width='20px'), max=1…",
      "application/vnd.jupyter.widget-view+json": {
       "version_major": 2,
       "version_minor": 0,
       "model_id": "ea73af1fa9d94fdfb663a2e3acd713b2"
      }
     },
     "metadata": {}
    },
    {
     "output_type": "stream",
     "name": "stdout",
     "text": [
      "\n"
     ]
    },
    {
     "output_type": "display_data",
     "data": {
      "text/plain": "HBox(children=(FloatProgress(value=1.0, bar_style='info', description='DE', layout=Layout(width='20px'), max=1…",
      "application/vnd.jupyter.widget-view+json": {
       "version_major": 2,
       "version_minor": 0,
       "model_id": "c51d618706d444abad0ea5c9d878c1f7"
      }
     },
     "metadata": {}
    },
    {
     "output_type": "stream",
     "name": "stdout",
     "text": [
      "\n"
     ]
    },
    {
     "output_type": "display_data",
     "data": {
      "text/plain": "HBox(children=(FloatProgress(value=1.0, bar_style='info', description='FI', layout=Layout(width='20px'), max=1…",
      "application/vnd.jupyter.widget-view+json": {
       "version_major": 2,
       "version_minor": 0,
       "model_id": "e5d72d33a87944a38a35ae62cdc00ed8"
      }
     },
     "metadata": {}
    },
    {
     "output_type": "stream",
     "name": "stdout",
     "text": [
      "\n"
     ]
    },
    {
     "output_type": "display_data",
     "data": {
      "text/plain": "HBox(children=(FloatProgress(value=1.0, bar_style='info', description='FR', layout=Layout(width='20px'), max=1…",
      "application/vnd.jupyter.widget-view+json": {
       "version_major": 2,
       "version_minor": 0,
       "model_id": "86664b2154724df98e8e887a5f3d5f8d"
      }
     },
     "metadata": {}
    },
    {
     "output_type": "stream",
     "name": "stdout",
     "text": [
      "\n"
     ]
    },
    {
     "output_type": "display_data",
     "data": {
      "text/plain": "HBox(children=(FloatProgress(value=1.0, bar_style='info', description='ES', layout=Layout(width='20px'), max=1…",
      "application/vnd.jupyter.widget-view+json": {
       "version_major": 2,
       "version_minor": 0,
       "model_id": "b570c7082f624123b7018b0d8c03759f"
      }
     },
     "metadata": {}
    },
    {
     "output_type": "stream",
     "name": "stdout",
     "text": [
      "\n"
     ]
    },
    {
     "output_type": "display_data",
     "data": {
      "text/plain": "HBox(children=(FloatProgress(value=1.0, bar_style='info', description='EN', layout=Layout(width='20px'), max=1…",
      "application/vnd.jupyter.widget-view+json": {
       "version_major": 2,
       "version_minor": 0,
       "model_id": "03f273b05ab0436c948101796fbc4b8b"
      }
     },
     "metadata": {}
    },
    {
     "output_type": "stream",
     "name": "stdout",
     "text": [
      "\nCPU times: user 1min 40s, sys: 7.02 s, total: 1min 47s\nWall time: 2min 17s\n"
     ]
    }
   ],
   "source": [
    "%%time\n",
    "data = {}\n",
    "# df of sentence scores\n",
    "scores = []\n",
    "languages = []\n",
    "\n",
    "for language_dir in in_dir.iterdir():\n",
    "    #print(language_dir.stem)\n",
    "    language = language_dir.stem\n",
    "    \n",
    "    for text_file in tqdm(language_dir.rglob('*.txt'), desc=language):\n",
    "        #print(text_file)\n",
    "        #print(text_file.relative_to(in_dir))\n",
    "        key = text_file.relative_to(in_dir)\n",
    "        data[key] = extract_sentences(text_file)\n",
    "        for s in data[key]:\n",
    "            scores.append(s.score)\n",
    "            languages.append(language)"
   ]
  },
  {
   "cell_type": "code",
   "execution_count": 20,
   "metadata": {},
   "outputs": [],
   "source": [
    "df = pd.DataFrame({'score': scores,\n",
    "                   'language': languages})"
   ]
  },
  {
   "cell_type": "code",
   "execution_count": 21,
   "metadata": {},
   "outputs": [
    {
     "output_type": "execute_result",
     "data": {
      "text/plain": [
       "count    134929.000000\n",
       "mean          0.256188\n",
       "std           0.231022\n",
       "min           0.000000\n",
       "25%           0.108911\n",
       "50%           0.225000\n",
       "75%           0.292453\n",
       "max           1.000000\n",
       "Name: score, dtype: float64"
      ]
     },
     "metadata": {},
     "execution_count": 21
    }
   ],
   "source": [
    "df.score.describe()"
   ]
  },
  {
   "cell_type": "code",
   "execution_count": 25,
   "metadata": {
    "tags": []
   },
   "outputs": [
    {
     "output_type": "execute_result",
     "data": {
      "text/plain": [
       "<AxesSubplot:>"
      ]
     },
     "metadata": {},
     "execution_count": 25
    },
    {
     "output_type": "display_data",
     "data": {
      "text/plain": "<Figure size 720x360 with 1 Axes>",
      "image/svg+xml": "<?xml version=\"1.0\" encoding=\"utf-8\" standalone=\"no\"?>\n<!DOCTYPE svg PUBLIC \"-//W3C//DTD SVG 1.1//EN\"\n  \"http://www.w3.org/Graphics/SVG/1.1/DTD/svg11.dtd\">\n<!-- Created with matplotlib (https://matplotlib.org/) -->\n<svg height=\"302.878125pt\" version=\"1.1\" viewBox=\"0 0 611.2125 302.878125\" width=\"611.2125pt\" xmlns=\"http://www.w3.org/2000/svg\" xmlns:xlink=\"http://www.w3.org/1999/xlink\">\n <metadata>\n  <rdf:RDF xmlns:cc=\"http://creativecommons.org/ns#\" xmlns:dc=\"http://purl.org/dc/elements/1.1/\" xmlns:rdf=\"http://www.w3.org/1999/02/22-rdf-syntax-ns#\">\n   <cc:Work>\n    <dc:type rdf:resource=\"http://purl.org/dc/dcmitype/StillImage\"/>\n    <dc:date>2021-03-02T18:38:13.857130</dc:date>\n    <dc:format>image/svg+xml</dc:format>\n    <dc:creator>\n     <cc:Agent>\n      <dc:title>Matplotlib v3.3.4, https://matplotlib.org/</dc:title>\n     </cc:Agent>\n    </dc:creator>\n   </cc:Work>\n  </rdf:RDF>\n </metadata>\n <defs>\n  <style type=\"text/css\">*{stroke-linecap:butt;stroke-linejoin:round;}</style>\n </defs>\n <g id=\"figure_1\">\n  <g id=\"patch_1\">\n   <path d=\"M 0 302.878125 \nL 611.2125 302.878125 \nL 611.2125 0 \nL 0 0 \nz\n\" style=\"fill:none;\"/>\n  </g>\n  <g id=\"axes_1\">\n   <g id=\"patch_2\">\n    <path d=\"M 46.0125 279 \nL 604.0125 279 \nL 604.0125 7.2 \nL 46.0125 7.2 \nz\n\" style=\"fill:#ffffff;\"/>\n   </g>\n   <g id=\"patch_3\">\n    <path clip-path=\"url(#p6f66eb1aeb)\" d=\"M 71.376136 279 \nL 122.103409 279 \nL 122.103409 111.286818 \nL 71.376136 111.286818 \nz\n\" style=\"fill:#1f77b4;\"/>\n   </g>\n   <g id=\"patch_4\">\n    <path clip-path=\"url(#p6f66eb1aeb)\" d=\"M 122.103409 279 \nL 172.830682 279 \nL 172.830682 168.616551 \nL 122.103409 168.616551 \nz\n\" style=\"fill:#1f77b4;\"/>\n   </g>\n   <g id=\"patch_5\">\n    <path clip-path=\"url(#p6f66eb1aeb)\" d=\"M 172.830682 279 \nL 223.557955 279 \nL 223.557955 20.142857 \nL 172.830682 20.142857 \nz\n\" style=\"fill:#1f77b4;\"/>\n   </g>\n   <g id=\"patch_6\">\n    <path clip-path=\"url(#p6f66eb1aeb)\" d=\"M 223.557955 279 \nL 274.285227 279 \nL 274.285227 210.744394 \nL 223.557955 210.744394 \nz\n\" style=\"fill:#1f77b4;\"/>\n   </g>\n   <g id=\"patch_7\">\n    <path clip-path=\"url(#p6f66eb1aeb)\" d=\"M 274.285227 279 \nL 325.0125 279 \nL 325.0125 262.129167 \nL 274.285227 262.129167 \nz\n\" style=\"fill:#1f77b4;\"/>\n   </g>\n   <g id=\"patch_8\">\n    <path clip-path=\"url(#p6f66eb1aeb)\" d=\"M 325.0125 279 \nL 375.739773 279 \nL 375.739773 267.483259 \nL 325.0125 267.483259 \nz\n\" style=\"fill:#1f77b4;\"/>\n   </g>\n   <g id=\"patch_9\">\n    <path clip-path=\"url(#p6f66eb1aeb)\" d=\"M 375.739773 279 \nL 426.467045 279 \nL 426.467045 270.551626 \nL 375.739773 270.551626 \nz\n\" style=\"fill:#1f77b4;\"/>\n   </g>\n   <g id=\"patch_10\">\n    <path clip-path=\"url(#p6f66eb1aeb)\" d=\"M 426.467045 279 \nL 477.194318 279 \nL 477.194318 262.310574 \nL 426.467045 262.310574 \nz\n\" style=\"fill:#1f77b4;\"/>\n   </g>\n   <g id=\"patch_11\">\n    <path clip-path=\"url(#p6f66eb1aeb)\" d=\"M 477.194318 279 \nL 527.921591 279 \nL 527.921591 268.613165 \nL 477.194318 268.613165 \nz\n\" style=\"fill:#1f77b4;\"/>\n   </g>\n   <g id=\"patch_12\">\n    <path clip-path=\"url(#p6f66eb1aeb)\" d=\"M 527.921591 279 \nL 578.648864 279 \nL 578.648864 248.777626 \nL 527.921591 248.777626 \nz\n\" style=\"fill:#1f77b4;\"/>\n   </g>\n   <g id=\"matplotlib.axis_1\">\n    <g id=\"xtick_1\">\n     <g id=\"line2d_1\">\n      <path clip-path=\"url(#p6f66eb1aeb)\" d=\"M 71.376136 279 \nL 71.376136 7.2 \n\" style=\"fill:none;stroke:#b0b0b0;stroke-linecap:square;stroke-width:0.8;\"/>\n     </g>\n     <g id=\"line2d_2\">\n      <defs>\n       <path d=\"M 0 0 \nL 0 3.5 \n\" id=\"m0f3f71a21c\" style=\"stroke:#000000;stroke-width:0.8;\"/>\n      </defs>\n      <g>\n       <use style=\"stroke:#000000;stroke-width:0.8;\" x=\"71.376136\" xlink:href=\"#m0f3f71a21c\" y=\"279\"/>\n      </g>\n     </g>\n     <g id=\"text_1\">\n      <!-- 0.0 -->\n      <g transform=\"translate(63.424574 293.598437)scale(0.1 -0.1)\">\n       <defs>\n        <path d=\"M 31.78125 66.40625 \nQ 24.171875 66.40625 20.328125 58.90625 \nQ 16.5 51.421875 16.5 36.375 \nQ 16.5 21.390625 20.328125 13.890625 \nQ 24.171875 6.390625 31.78125 6.390625 \nQ 39.453125 6.390625 43.28125 13.890625 \nQ 47.125 21.390625 47.125 36.375 \nQ 47.125 51.421875 43.28125 58.90625 \nQ 39.453125 66.40625 31.78125 66.40625 \nz\nM 31.78125 74.21875 \nQ 44.046875 74.21875 50.515625 64.515625 \nQ 56.984375 54.828125 56.984375 36.375 \nQ 56.984375 17.96875 50.515625 8.265625 \nQ 44.046875 -1.421875 31.78125 -1.421875 \nQ 19.53125 -1.421875 13.0625 8.265625 \nQ 6.59375 17.96875 6.59375 36.375 \nQ 6.59375 54.828125 13.0625 64.515625 \nQ 19.53125 74.21875 31.78125 74.21875 \nz\n\" id=\"DejaVuSans-48\"/>\n        <path d=\"M 10.6875 12.40625 \nL 21 12.40625 \nL 21 0 \nL 10.6875 0 \nz\n\" id=\"DejaVuSans-46\"/>\n       </defs>\n       <use xlink:href=\"#DejaVuSans-48\"/>\n       <use x=\"63.623047\" xlink:href=\"#DejaVuSans-46\"/>\n       <use x=\"95.410156\" xlink:href=\"#DejaVuSans-48\"/>\n      </g>\n     </g>\n    </g>\n    <g id=\"xtick_2\">\n     <g id=\"line2d_3\">\n      <path clip-path=\"url(#p6f66eb1aeb)\" d=\"M 172.830682 279 \nL 172.830682 7.2 \n\" style=\"fill:none;stroke:#b0b0b0;stroke-linecap:square;stroke-width:0.8;\"/>\n     </g>\n     <g id=\"line2d_4\">\n      <g>\n       <use style=\"stroke:#000000;stroke-width:0.8;\" x=\"172.830682\" xlink:href=\"#m0f3f71a21c\" y=\"279\"/>\n      </g>\n     </g>\n     <g id=\"text_2\">\n      <!-- 0.2 -->\n      <g transform=\"translate(164.879119 293.598437)scale(0.1 -0.1)\">\n       <defs>\n        <path d=\"M 19.1875 8.296875 \nL 53.609375 8.296875 \nL 53.609375 0 \nL 7.328125 0 \nL 7.328125 8.296875 \nQ 12.9375 14.109375 22.625 23.890625 \nQ 32.328125 33.6875 34.8125 36.53125 \nQ 39.546875 41.84375 41.421875 45.53125 \nQ 43.3125 49.21875 43.3125 52.78125 \nQ 43.3125 58.59375 39.234375 62.25 \nQ 35.15625 65.921875 28.609375 65.921875 \nQ 23.96875 65.921875 18.8125 64.3125 \nQ 13.671875 62.703125 7.8125 59.421875 \nL 7.8125 69.390625 \nQ 13.765625 71.78125 18.9375 73 \nQ 24.125 74.21875 28.421875 74.21875 \nQ 39.75 74.21875 46.484375 68.546875 \nQ 53.21875 62.890625 53.21875 53.421875 \nQ 53.21875 48.921875 51.53125 44.890625 \nQ 49.859375 40.875 45.40625 35.40625 \nQ 44.1875 33.984375 37.640625 27.21875 \nQ 31.109375 20.453125 19.1875 8.296875 \nz\n\" id=\"DejaVuSans-50\"/>\n       </defs>\n       <use xlink:href=\"#DejaVuSans-48\"/>\n       <use x=\"63.623047\" xlink:href=\"#DejaVuSans-46\"/>\n       <use x=\"95.410156\" xlink:href=\"#DejaVuSans-50\"/>\n      </g>\n     </g>\n    </g>\n    <g id=\"xtick_3\">\n     <g id=\"line2d_5\">\n      <path clip-path=\"url(#p6f66eb1aeb)\" d=\"M 274.285227 279 \nL 274.285227 7.2 \n\" style=\"fill:none;stroke:#b0b0b0;stroke-linecap:square;stroke-width:0.8;\"/>\n     </g>\n     <g id=\"line2d_6\">\n      <g>\n       <use style=\"stroke:#000000;stroke-width:0.8;\" x=\"274.285227\" xlink:href=\"#m0f3f71a21c\" y=\"279\"/>\n      </g>\n     </g>\n     <g id=\"text_3\">\n      <!-- 0.4 -->\n      <g transform=\"translate(266.333665 293.598437)scale(0.1 -0.1)\">\n       <defs>\n        <path d=\"M 37.796875 64.3125 \nL 12.890625 25.390625 \nL 37.796875 25.390625 \nz\nM 35.203125 72.90625 \nL 47.609375 72.90625 \nL 47.609375 25.390625 \nL 58.015625 25.390625 \nL 58.015625 17.1875 \nL 47.609375 17.1875 \nL 47.609375 0 \nL 37.796875 0 \nL 37.796875 17.1875 \nL 4.890625 17.1875 \nL 4.890625 26.703125 \nz\n\" id=\"DejaVuSans-52\"/>\n       </defs>\n       <use xlink:href=\"#DejaVuSans-48\"/>\n       <use x=\"63.623047\" xlink:href=\"#DejaVuSans-46\"/>\n       <use x=\"95.410156\" xlink:href=\"#DejaVuSans-52\"/>\n      </g>\n     </g>\n    </g>\n    <g id=\"xtick_4\">\n     <g id=\"line2d_7\">\n      <path clip-path=\"url(#p6f66eb1aeb)\" d=\"M 375.739773 279 \nL 375.739773 7.2 \n\" style=\"fill:none;stroke:#b0b0b0;stroke-linecap:square;stroke-width:0.8;\"/>\n     </g>\n     <g id=\"line2d_8\">\n      <g>\n       <use style=\"stroke:#000000;stroke-width:0.8;\" x=\"375.739773\" xlink:href=\"#m0f3f71a21c\" y=\"279\"/>\n      </g>\n     </g>\n     <g id=\"text_4\">\n      <!-- 0.6 -->\n      <g transform=\"translate(367.78821 293.598437)scale(0.1 -0.1)\">\n       <defs>\n        <path d=\"M 33.015625 40.375 \nQ 26.375 40.375 22.484375 35.828125 \nQ 18.609375 31.296875 18.609375 23.390625 \nQ 18.609375 15.53125 22.484375 10.953125 \nQ 26.375 6.390625 33.015625 6.390625 \nQ 39.65625 6.390625 43.53125 10.953125 \nQ 47.40625 15.53125 47.40625 23.390625 \nQ 47.40625 31.296875 43.53125 35.828125 \nQ 39.65625 40.375 33.015625 40.375 \nz\nM 52.59375 71.296875 \nL 52.59375 62.3125 \nQ 48.875 64.0625 45.09375 64.984375 \nQ 41.3125 65.921875 37.59375 65.921875 \nQ 27.828125 65.921875 22.671875 59.328125 \nQ 17.53125 52.734375 16.796875 39.40625 \nQ 19.671875 43.65625 24.015625 45.921875 \nQ 28.375 48.1875 33.59375 48.1875 \nQ 44.578125 48.1875 50.953125 41.515625 \nQ 57.328125 34.859375 57.328125 23.390625 \nQ 57.328125 12.15625 50.6875 5.359375 \nQ 44.046875 -1.421875 33.015625 -1.421875 \nQ 20.359375 -1.421875 13.671875 8.265625 \nQ 6.984375 17.96875 6.984375 36.375 \nQ 6.984375 53.65625 15.1875 63.9375 \nQ 23.390625 74.21875 37.203125 74.21875 \nQ 40.921875 74.21875 44.703125 73.484375 \nQ 48.484375 72.75 52.59375 71.296875 \nz\n\" id=\"DejaVuSans-54\"/>\n       </defs>\n       <use xlink:href=\"#DejaVuSans-48\"/>\n       <use x=\"63.623047\" xlink:href=\"#DejaVuSans-46\"/>\n       <use x=\"95.410156\" xlink:href=\"#DejaVuSans-54\"/>\n      </g>\n     </g>\n    </g>\n    <g id=\"xtick_5\">\n     <g id=\"line2d_9\">\n      <path clip-path=\"url(#p6f66eb1aeb)\" d=\"M 477.194318 279 \nL 477.194318 7.2 \n\" style=\"fill:none;stroke:#b0b0b0;stroke-linecap:square;stroke-width:0.8;\"/>\n     </g>\n     <g id=\"line2d_10\">\n      <g>\n       <use style=\"stroke:#000000;stroke-width:0.8;\" x=\"477.194318\" xlink:href=\"#m0f3f71a21c\" y=\"279\"/>\n      </g>\n     </g>\n     <g id=\"text_5\">\n      <!-- 0.8 -->\n      <g transform=\"translate(469.242756 293.598437)scale(0.1 -0.1)\">\n       <defs>\n        <path d=\"M 31.78125 34.625 \nQ 24.75 34.625 20.71875 30.859375 \nQ 16.703125 27.09375 16.703125 20.515625 \nQ 16.703125 13.921875 20.71875 10.15625 \nQ 24.75 6.390625 31.78125 6.390625 \nQ 38.8125 6.390625 42.859375 10.171875 \nQ 46.921875 13.96875 46.921875 20.515625 \nQ 46.921875 27.09375 42.890625 30.859375 \nQ 38.875 34.625 31.78125 34.625 \nz\nM 21.921875 38.8125 \nQ 15.578125 40.375 12.03125 44.71875 \nQ 8.5 49.078125 8.5 55.328125 \nQ 8.5 64.0625 14.71875 69.140625 \nQ 20.953125 74.21875 31.78125 74.21875 \nQ 42.671875 74.21875 48.875 69.140625 \nQ 55.078125 64.0625 55.078125 55.328125 \nQ 55.078125 49.078125 51.53125 44.71875 \nQ 48 40.375 41.703125 38.8125 \nQ 48.828125 37.15625 52.796875 32.3125 \nQ 56.78125 27.484375 56.78125 20.515625 \nQ 56.78125 9.90625 50.3125 4.234375 \nQ 43.84375 -1.421875 31.78125 -1.421875 \nQ 19.734375 -1.421875 13.25 4.234375 \nQ 6.78125 9.90625 6.78125 20.515625 \nQ 6.78125 27.484375 10.78125 32.3125 \nQ 14.796875 37.15625 21.921875 38.8125 \nz\nM 18.3125 54.390625 \nQ 18.3125 48.734375 21.84375 45.5625 \nQ 25.390625 42.390625 31.78125 42.390625 \nQ 38.140625 42.390625 41.71875 45.5625 \nQ 45.3125 48.734375 45.3125 54.390625 \nQ 45.3125 60.0625 41.71875 63.234375 \nQ 38.140625 66.40625 31.78125 66.40625 \nQ 25.390625 66.40625 21.84375 63.234375 \nQ 18.3125 60.0625 18.3125 54.390625 \nz\n\" id=\"DejaVuSans-56\"/>\n       </defs>\n       <use xlink:href=\"#DejaVuSans-48\"/>\n       <use x=\"63.623047\" xlink:href=\"#DejaVuSans-46\"/>\n       <use x=\"95.410156\" xlink:href=\"#DejaVuSans-56\"/>\n      </g>\n     </g>\n    </g>\n    <g id=\"xtick_6\">\n     <g id=\"line2d_11\">\n      <path clip-path=\"url(#p6f66eb1aeb)\" d=\"M 578.648864 279 \nL 578.648864 7.2 \n\" style=\"fill:none;stroke:#b0b0b0;stroke-linecap:square;stroke-width:0.8;\"/>\n     </g>\n     <g id=\"line2d_12\">\n      <g>\n       <use style=\"stroke:#000000;stroke-width:0.8;\" x=\"578.648864\" xlink:href=\"#m0f3f71a21c\" y=\"279\"/>\n      </g>\n     </g>\n     <g id=\"text_6\">\n      <!-- 1.0 -->\n      <g transform=\"translate(570.697301 293.598437)scale(0.1 -0.1)\">\n       <defs>\n        <path d=\"M 12.40625 8.296875 \nL 28.515625 8.296875 \nL 28.515625 63.921875 \nL 10.984375 60.40625 \nL 10.984375 69.390625 \nL 28.421875 72.90625 \nL 38.28125 72.90625 \nL 38.28125 8.296875 \nL 54.390625 8.296875 \nL 54.390625 0 \nL 12.40625 0 \nz\n\" id=\"DejaVuSans-49\"/>\n       </defs>\n       <use xlink:href=\"#DejaVuSans-49\"/>\n       <use x=\"63.623047\" xlink:href=\"#DejaVuSans-46\"/>\n       <use x=\"95.410156\" xlink:href=\"#DejaVuSans-48\"/>\n      </g>\n     </g>\n    </g>\n   </g>\n   <g id=\"matplotlib.axis_2\">\n    <g id=\"ytick_1\">\n     <g id=\"line2d_13\">\n      <path clip-path=\"url(#p6f66eb1aeb)\" d=\"M 46.0125 279 \nL 604.0125 279 \n\" style=\"fill:none;stroke:#b0b0b0;stroke-linecap:square;stroke-width:0.8;\"/>\n     </g>\n     <g id=\"line2d_14\">\n      <defs>\n       <path d=\"M 0 0 \nL -3.5 0 \n\" id=\"mce292b0800\" style=\"stroke:#000000;stroke-width:0.8;\"/>\n      </defs>\n      <g>\n       <use style=\"stroke:#000000;stroke-width:0.8;\" x=\"46.0125\" xlink:href=\"#mce292b0800\" y=\"279\"/>\n      </g>\n     </g>\n     <g id=\"text_7\">\n      <!-- 0 -->\n      <g transform=\"translate(32.65 282.799219)scale(0.1 -0.1)\">\n       <use xlink:href=\"#DejaVuSans-48\"/>\n      </g>\n     </g>\n    </g>\n    <g id=\"ytick_2\">\n     <g id=\"line2d_15\">\n      <path clip-path=\"url(#p6f66eb1aeb)\" d=\"M 46.0125 227.169485 \nL 604.0125 227.169485 \n\" style=\"fill:none;stroke:#b0b0b0;stroke-linecap:square;stroke-width:0.8;\"/>\n     </g>\n     <g id=\"line2d_16\">\n      <g>\n       <use style=\"stroke:#000000;stroke-width:0.8;\" x=\"46.0125\" xlink:href=\"#mce292b0800\" y=\"227.169485\"/>\n      </g>\n     </g>\n     <g id=\"text_8\">\n      <!-- 10000 -->\n      <g transform=\"translate(7.2 230.968703)scale(0.1 -0.1)\">\n       <use xlink:href=\"#DejaVuSans-49\"/>\n       <use x=\"63.623047\" xlink:href=\"#DejaVuSans-48\"/>\n       <use x=\"127.246094\" xlink:href=\"#DejaVuSans-48\"/>\n       <use x=\"190.869141\" xlink:href=\"#DejaVuSans-48\"/>\n       <use x=\"254.492188\" xlink:href=\"#DejaVuSans-48\"/>\n      </g>\n     </g>\n    </g>\n    <g id=\"ytick_3\">\n     <g id=\"line2d_17\">\n      <path clip-path=\"url(#p6f66eb1aeb)\" d=\"M 46.0125 175.338969 \nL 604.0125 175.338969 \n\" style=\"fill:none;stroke:#b0b0b0;stroke-linecap:square;stroke-width:0.8;\"/>\n     </g>\n     <g id=\"line2d_18\">\n      <g>\n       <use style=\"stroke:#000000;stroke-width:0.8;\" x=\"46.0125\" xlink:href=\"#mce292b0800\" y=\"175.338969\"/>\n      </g>\n     </g>\n     <g id=\"text_9\">\n      <!-- 20000 -->\n      <g transform=\"translate(7.2 179.138188)scale(0.1 -0.1)\">\n       <use xlink:href=\"#DejaVuSans-50\"/>\n       <use x=\"63.623047\" xlink:href=\"#DejaVuSans-48\"/>\n       <use x=\"127.246094\" xlink:href=\"#DejaVuSans-48\"/>\n       <use x=\"190.869141\" xlink:href=\"#DejaVuSans-48\"/>\n       <use x=\"254.492188\" xlink:href=\"#DejaVuSans-48\"/>\n      </g>\n     </g>\n    </g>\n    <g id=\"ytick_4\">\n     <g id=\"line2d_19\">\n      <path clip-path=\"url(#p6f66eb1aeb)\" d=\"M 46.0125 123.508454 \nL 604.0125 123.508454 \n\" style=\"fill:none;stroke:#b0b0b0;stroke-linecap:square;stroke-width:0.8;\"/>\n     </g>\n     <g id=\"line2d_20\">\n      <g>\n       <use style=\"stroke:#000000;stroke-width:0.8;\" x=\"46.0125\" xlink:href=\"#mce292b0800\" y=\"123.508454\"/>\n      </g>\n     </g>\n     <g id=\"text_10\">\n      <!-- 30000 -->\n      <g transform=\"translate(7.2 127.307673)scale(0.1 -0.1)\">\n       <defs>\n        <path d=\"M 40.578125 39.3125 \nQ 47.65625 37.796875 51.625 33 \nQ 55.609375 28.21875 55.609375 21.1875 \nQ 55.609375 10.40625 48.1875 4.484375 \nQ 40.765625 -1.421875 27.09375 -1.421875 \nQ 22.515625 -1.421875 17.65625 -0.515625 \nQ 12.796875 0.390625 7.625 2.203125 \nL 7.625 11.71875 \nQ 11.71875 9.328125 16.59375 8.109375 \nQ 21.484375 6.890625 26.8125 6.890625 \nQ 36.078125 6.890625 40.9375 10.546875 \nQ 45.796875 14.203125 45.796875 21.1875 \nQ 45.796875 27.640625 41.28125 31.265625 \nQ 36.765625 34.90625 28.71875 34.90625 \nL 20.21875 34.90625 \nL 20.21875 43.015625 \nL 29.109375 43.015625 \nQ 36.375 43.015625 40.234375 45.921875 \nQ 44.09375 48.828125 44.09375 54.296875 \nQ 44.09375 59.90625 40.109375 62.90625 \nQ 36.140625 65.921875 28.71875 65.921875 \nQ 24.65625 65.921875 20.015625 65.03125 \nQ 15.375 64.15625 9.8125 62.3125 \nL 9.8125 71.09375 \nQ 15.4375 72.65625 20.34375 73.4375 \nQ 25.25 74.21875 29.59375 74.21875 \nQ 40.828125 74.21875 47.359375 69.109375 \nQ 53.90625 64.015625 53.90625 55.328125 \nQ 53.90625 49.265625 50.4375 45.09375 \nQ 46.96875 40.921875 40.578125 39.3125 \nz\n\" id=\"DejaVuSans-51\"/>\n       </defs>\n       <use xlink:href=\"#DejaVuSans-51\"/>\n       <use x=\"63.623047\" xlink:href=\"#DejaVuSans-48\"/>\n       <use x=\"127.246094\" xlink:href=\"#DejaVuSans-48\"/>\n       <use x=\"190.869141\" xlink:href=\"#DejaVuSans-48\"/>\n       <use x=\"254.492188\" xlink:href=\"#DejaVuSans-48\"/>\n      </g>\n     </g>\n    </g>\n    <g id=\"ytick_5\">\n     <g id=\"line2d_21\">\n      <path clip-path=\"url(#p6f66eb1aeb)\" d=\"M 46.0125 71.677939 \nL 604.0125 71.677939 \n\" style=\"fill:none;stroke:#b0b0b0;stroke-linecap:square;stroke-width:0.8;\"/>\n     </g>\n     <g id=\"line2d_22\">\n      <g>\n       <use style=\"stroke:#000000;stroke-width:0.8;\" x=\"46.0125\" xlink:href=\"#mce292b0800\" y=\"71.677939\"/>\n      </g>\n     </g>\n     <g id=\"text_11\">\n      <!-- 40000 -->\n      <g transform=\"translate(7.2 75.477157)scale(0.1 -0.1)\">\n       <use xlink:href=\"#DejaVuSans-52\"/>\n       <use x=\"63.623047\" xlink:href=\"#DejaVuSans-48\"/>\n       <use x=\"127.246094\" xlink:href=\"#DejaVuSans-48\"/>\n       <use x=\"190.869141\" xlink:href=\"#DejaVuSans-48\"/>\n       <use x=\"254.492188\" xlink:href=\"#DejaVuSans-48\"/>\n      </g>\n     </g>\n    </g>\n    <g id=\"ytick_6\">\n     <g id=\"line2d_23\">\n      <path clip-path=\"url(#p6f66eb1aeb)\" d=\"M 46.0125 19.847423 \nL 604.0125 19.847423 \n\" style=\"fill:none;stroke:#b0b0b0;stroke-linecap:square;stroke-width:0.8;\"/>\n     </g>\n     <g id=\"line2d_24\">\n      <g>\n       <use style=\"stroke:#000000;stroke-width:0.8;\" x=\"46.0125\" xlink:href=\"#mce292b0800\" y=\"19.847423\"/>\n      </g>\n     </g>\n     <g id=\"text_12\">\n      <!-- 50000 -->\n      <g transform=\"translate(7.2 23.646642)scale(0.1 -0.1)\">\n       <defs>\n        <path d=\"M 10.796875 72.90625 \nL 49.515625 72.90625 \nL 49.515625 64.59375 \nL 19.828125 64.59375 \nL 19.828125 46.734375 \nQ 21.96875 47.46875 24.109375 47.828125 \nQ 26.265625 48.1875 28.421875 48.1875 \nQ 40.625 48.1875 47.75 41.5 \nQ 54.890625 34.8125 54.890625 23.390625 \nQ 54.890625 11.625 47.5625 5.09375 \nQ 40.234375 -1.421875 26.90625 -1.421875 \nQ 22.3125 -1.421875 17.546875 -0.640625 \nQ 12.796875 0.140625 7.71875 1.703125 \nL 7.71875 11.625 \nQ 12.109375 9.234375 16.796875 8.0625 \nQ 21.484375 6.890625 26.703125 6.890625 \nQ 35.15625 6.890625 40.078125 11.328125 \nQ 45.015625 15.765625 45.015625 23.390625 \nQ 45.015625 31 40.078125 35.4375 \nQ 35.15625 39.890625 26.703125 39.890625 \nQ 22.75 39.890625 18.8125 39.015625 \nQ 14.890625 38.140625 10.796875 36.28125 \nz\n\" id=\"DejaVuSans-53\"/>\n       </defs>\n       <use xlink:href=\"#DejaVuSans-53\"/>\n       <use x=\"63.623047\" xlink:href=\"#DejaVuSans-48\"/>\n       <use x=\"127.246094\" xlink:href=\"#DejaVuSans-48\"/>\n       <use x=\"190.869141\" xlink:href=\"#DejaVuSans-48\"/>\n       <use x=\"254.492188\" xlink:href=\"#DejaVuSans-48\"/>\n      </g>\n     </g>\n    </g>\n   </g>\n   <g id=\"patch_13\">\n    <path d=\"M 46.0125 279 \nL 46.0125 7.2 \n\" style=\"fill:none;stroke:#000000;stroke-linecap:square;stroke-linejoin:miter;stroke-width:0.8;\"/>\n   </g>\n   <g id=\"patch_14\">\n    <path d=\"M 604.0125 279 \nL 604.0125 7.2 \n\" style=\"fill:none;stroke:#000000;stroke-linecap:square;stroke-linejoin:miter;stroke-width:0.8;\"/>\n   </g>\n   <g id=\"patch_15\">\n    <path d=\"M 46.0125 279 \nL 604.0125 279 \n\" style=\"fill:none;stroke:#000000;stroke-linecap:square;stroke-linejoin:miter;stroke-width:0.8;\"/>\n   </g>\n   <g id=\"patch_16\">\n    <path d=\"M 46.0125 7.2 \nL 604.0125 7.2 \n\" style=\"fill:none;stroke:#000000;stroke-linecap:square;stroke-linejoin:miter;stroke-width:0.8;\"/>\n   </g>\n  </g>\n </g>\n <defs>\n  <clipPath id=\"p6f66eb1aeb\">\n   <rect height=\"271.8\" width=\"558\" x=\"46.0125\" y=\"7.2\"/>\n  </clipPath>\n </defs>\n</svg>\n",
      "image/png": "[encoded data removed]"
     },
     "metadata": {
      "needs_background": "light"
     }
    }
   ],
   "source": [
    "df.score.hist(figsize=(10, 5))"
   ]
  },
  {
   "cell_type": "code",
   "execution_count": 24,
   "metadata": {
    "tags": []
   },
   "outputs": [
    {
     "output_type": "stream",
     "name": "stdout",
     "text": [
      "Token(ocr='Europijcbe', gs=' Europische', ocr_aligned='@Europijcbe', gs_aligned=' Europische', start=0, ed=3, score=0.2727272727272727)\n"
     ]
    }
   ],
   "source": [
    "for t in tokens:\n",
    "    print(t)\n",
    "    break"
   ]
  },
  {
   "source": [
    "To test whether the tokenization is correct, we compare the extracted token strings with the unaligned OCR input text. Sometimes, this text contains alignment characters, and if we remove those, the alignment is correct."
   ],
   "cell_type": "markdown",
   "metadata": {}
  },
  {
   "cell_type": "code",
   "execution_count": 51,
   "metadata": {
    "tags": []
   },
   "outputs": [],
   "source": [
    "ocr_unaligned = remove_label_and_nl(lines[0])\n",
    "ocr_unaligned = ocr_unaligned.replace('@', '')\n",
    "\n",
    "for t in tokens:\n",
    "    try:\n",
    "        assert t.ocr == ocr_unaligned[t.start:t.start+len(t.ocr)]\n",
    "    except AssertionError:\n",
    "        print(t)\n",
    "        print(ocr_unaligned[t.start:t.start+len(t.ocr)])"
   ]
  },
  {
   "cell_type": "code",
   "execution_count": 63,
   "metadata": {
    "tags": []
   },
   "outputs": [],
   "source": [
    "result = {}\n",
    "\n",
    "for i, t in enumerate(tokens):\n",
    "    if t.ocr != t.gs:\n",
    "        #print(t)\n",
    "        #print(t.start)\n",
    "        #print(len(t.ocr.split()))\n",
    "        task1_result = f'{t.start}:{len(t.ocr.split())}'\n",
    "        #print(task1_result)\n",
    "        result[task1_result] = {}"
   ]
  },
  {
   "cell_type": "code",
   "execution_count": 64,
   "metadata": {},
   "outputs": [
    {
     "output_type": "execute_result",
     "data": {
      "text/plain": [
       "{'0:1': {},\n",
       " '32:1': {},\n",
       " '37:1': {},\n",
       " '42:1': {},\n",
       " '57:1': {},\n",
       " '66:1': {},\n",
       " '69:1': {},\n",
       " '78:1': {},\n",
       " '88:2': {},\n",
       " '95:1': {},\n",
       " '105:1': {},\n",
       " '113:1': {},\n",
       " '122:2': {},\n",
       " '146:2': {},\n",
       " '154:1': {},\n",
       " '161:1': {},\n",
       " '168:1': {},\n",
       " '172:1': {},\n",
       " '178:1': {},\n",
       " '184:2': {},\n",
       " '196:1': {},\n",
       " '199:1': {},\n",
       " '206:1': {},\n",
       " '213:3': {},\n",
       " '221:1': {},\n",
       " '230:1': {},\n",
       " '236:1': {},\n",
       " '246:1': {},\n",
       " '255:1': {},\n",
       " '269:1': {},\n",
       " '280:1': {},\n",
       " '290:1': {},\n",
       " '304:2': {},\n",
       " '309:1': {},\n",
       " '315:1': {},\n",
       " '319:1': {},\n",
       " '323:1': {},\n",
       " '335:2': {},\n",
       " '365:1': {},\n",
       " '371:1': {},\n",
       " '375:1': {},\n",
       " '385:1': {},\n",
       " '395:1': {},\n",
       " '398:2': {},\n",
       " '417:1': {},\n",
       " '422:1': {},\n",
       " '429:1': {},\n",
       " '442:1': {},\n",
       " '456:1': {},\n",
       " '459:1': {},\n",
       " '463:1': {},\n",
       " '471:1': {},\n",
       " '480:1': {},\n",
       " '491:1': {},\n",
       " '495:1': {},\n",
       " '506:1': {},\n",
       " '509:1': {},\n",
       " '513:1': {},\n",
       " '518:1': {},\n",
       " '521:1': {},\n",
       " '528:1': {},\n",
       " '541:2': {},\n",
       " '548:1': {},\n",
       " '552:1': {},\n",
       " '555:1': {},\n",
       " '576:1': {},\n",
       " '587:1': {},\n",
       " '592:1': {},\n",
       " '606:1': {},\n",
       " '613:1': {},\n",
       " '624:1': {},\n",
       " '632:1': {},\n",
       " '637:1': {},\n",
       " '642:1': {},\n",
       " '652:1': {},\n",
       " '662:1': {},\n",
       " '674:1': {},\n",
       " '677:1': {},\n",
       " '684:1': {},\n",
       " '707:1': {},\n",
       " '713:1': {},\n",
       " '722:1': {},\n",
       " '727:1': {},\n",
       " '739:1': {},\n",
       " '743:1': {},\n",
       " '748:1': {},\n",
       " '756:1': {},\n",
       " '779:1': {},\n",
       " '794:1': {},\n",
       " '809:1': {},\n",
       " '824:1': {},\n",
       " '833:1': {},\n",
       " '840:1': {},\n",
       " '843:1': {},\n",
       " '846:2': {},\n",
       " '856:1': {},\n",
       " '862:1': {},\n",
       " '871:1': {},\n",
       " '887:1': {},\n",
       " '891:1': {},\n",
       " '894:1': {},\n",
       " '901:1': {},\n",
       " '908:1': {},\n",
       " '912:1': {},\n",
       " '917:1': {},\n",
       " '922:1': {},\n",
       " '929:1': {},\n",
       " '939:1': {},\n",
       " '943:1': {},\n",
       " '947:1': {},\n",
       " '956:1': {},\n",
       " '966:1': {},\n",
       " '971:1': {},\n",
       " '975:1': {},\n",
       " '986:1': {},\n",
       " '989:1': {},\n",
       " '1001:1': {},\n",
       " '1008:1': {},\n",
       " '1019:1': {},\n",
       " '1024:2': {},\n",
       " '1030:1': {},\n",
       " '1036:1': {},\n",
       " '1052:1': {},\n",
       " '1058:1': {},\n",
       " '1065:2': {},\n",
       " '1074:1': {},\n",
       " '1079:1': {},\n",
       " '1085:1': {},\n",
       " '1094:1': {},\n",
       " '1098:3': {},\n",
       " '1123:1': {},\n",
       " '1127:1': {},\n",
       " '1137:1': {},\n",
       " '1148:1': {},\n",
       " '1153:1': {},\n",
       " '1158:1': {},\n",
       " '1170:1': {},\n",
       " '1175:1': {},\n",
       " '1183:1': {},\n",
       " '1192:1': {},\n",
       " '1196:1': {},\n",
       " '1202:1': {},\n",
       " '1214:2': {},\n",
       " '1221:1': {},\n",
       " '1251:1': {},\n",
       " '1259:1': {},\n",
       " '1263:1': {},\n",
       " '1266:1': {},\n",
       " '1274:1': {},\n",
       " '1278:1': {},\n",
       " '1291:1': {},\n",
       " '1295:1': {},\n",
       " '1300:1': {},\n",
       " '1303:1': {},\n",
       " '1322:1': {},\n",
       " '1331:1': {},\n",
       " '1344:1': {},\n",
       " '1358:1': {},\n",
       " '1363:1': {},\n",
       " '1390:1': {},\n",
       " '1405:1': {},\n",
       " '1415:1': {},\n",
       " '1419:1': {},\n",
       " '1427:1': {},\n",
       " '1431:1': {},\n",
       " '1443:1': {},\n",
       " '1449:1': {},\n",
       " '1466:1': {},\n",
       " '1472:1': {},\n",
       " '1480:1': {},\n",
       " '1486:1': {},\n",
       " '1499:1': {},\n",
       " '1517:1': {},\n",
       " '1522:1': {},\n",
       " '1525:1': {},\n",
       " '1533:1': {},\n",
       " '1538:1': {},\n",
       " '1551:1': {},\n",
       " '1557:1': {},\n",
       " '1561:1': {},\n",
       " '1574:1': {},\n",
       " '1586:1': {},\n",
       " '1589:1': {},\n",
       " '1597:1': {},\n",
       " '1606:1': {},\n",
       " '1613:1': {},\n",
       " '1624:1': {},\n",
       " '1635:1': {},\n",
       " '1644:1': {},\n",
       " '1652:1': {},\n",
       " '1666:1': {},\n",
       " '1684:1': {},\n",
       " '1688:1': {},\n",
       " '1704:1': {},\n",
       " '1709:1': {},\n",
       " '1721:1': {},\n",
       " '1727:1': {},\n",
       " '1741:3': {},\n",
       " '1754:1': {},\n",
       " '1767:1': {},\n",
       " '1771:1': {},\n",
       " '1787:1': {},\n",
       " '1795:1': {},\n",
       " '1803:2': {},\n",
       " '1819:1': {},\n",
       " '1827:1': {},\n",
       " '1838:1': {},\n",
       " '1844:1': {},\n",
       " '1848:1': {},\n",
       " '1854:1': {},\n",
       " '1858:1': {},\n",
       " '1867:1': {},\n",
       " '1874:1': {},\n",
       " '1885:1': {},\n",
       " '1894:2': {},\n",
       " '1904:1': {},\n",
       " '1913:2': {},\n",
       " '1932:1': {},\n",
       " '1937:1': {},\n",
       " '1943:1': {},\n",
       " '1962:1': {},\n",
       " '1970:1': {},\n",
       " '1977:1': {},\n",
       " '1988:1': {},\n",
       " '2009:1': {},\n",
       " '2017:1': {},\n",
       " '2021:1': {},\n",
       " '2025:1': {},\n",
       " '2031:1': {},\n",
       " '2044:1': {},\n",
       " '2049:1': {},\n",
       " '2055:1': {},\n",
       " '2071:1': {},\n",
       " '2080:1': {},\n",
       " '2087:1': {},\n",
       " '2099:1': {},\n",
       " '2134:1': {},\n",
       " '2140:1': {},\n",
       " '2144:1': {},\n",
       " '2154:1': {},\n",
       " '2162:1': {},\n",
       " '2165:1': {},\n",
       " '2173:1': {},\n",
       " '2178:1': {},\n",
       " '2183:2': {},\n",
       " '2200:1': {},\n",
       " '2205:1': {},\n",
       " '2212:1': {},\n",
       " '2221:1': {},\n",
       " '2225:1': {},\n",
       " '2228:1': {},\n",
       " '2235:1': {},\n",
       " '2246:1': {},\n",
       " '2260:1': {},\n",
       " '2272:1': {},\n",
       " '2276:1': {},\n",
       " '2282:1': {},\n",
       " '2287:1': {},\n",
       " '2300:1': {},\n",
       " '2304:1': {},\n",
       " '2325:1': {},\n",
       " '2329:1': {},\n",
       " '2338:1': {},\n",
       " '2345:1': {},\n",
       " '2357:1': {},\n",
       " '2365:1': {},\n",
       " '2383:1': {},\n",
       " '2387:1': {},\n",
       " '2394:1': {},\n",
       " '2398:1': {},\n",
       " '2414:1': {},\n",
       " '2418:1': {},\n",
       " '2425:1': {},\n",
       " '2429:1': {},\n",
       " '2432:1': {},\n",
       " '2440:1': {},\n",
       " '2444:1': {},\n",
       " '2447:1': {},\n",
       " '2456:1': {},\n",
       " '2459:1': {},\n",
       " '2471:1': {},\n",
       " '2475:1': {},\n",
       " '2478:1': {},\n",
       " '2484:1': {},\n",
       " '2486:1': {},\n",
       " '2491:1': {},\n",
       " '2497:1': {},\n",
       " '2504:1': {},\n",
       " '2518:1': {},\n",
       " '2522:1': {},\n",
       " '2536:1': {},\n",
       " '2542:1': {},\n",
       " '2546:2': {},\n",
       " '2556:1': {},\n",
       " '2562:1': {},\n",
       " '2568:1': {},\n",
       " '2573:1': {},\n",
       " '2578:1': {},\n",
       " '2587:1': {},\n",
       " '2590:1': {},\n",
       " '2594:2': {},\n",
       " '2605:1': {},\n",
       " '2610:1': {},\n",
       " '2620:1': {},\n",
       " '2630:1': {},\n",
       " '2633:1': {},\n",
       " '2645:1': {},\n",
       " '2653:1': {},\n",
       " '2659:1': {},\n",
       " '2664:1': {},\n",
       " '2675:1': {},\n",
       " '2690:1': {},\n",
       " '2695:1': {},\n",
       " '2699:1': {},\n",
       " '2711:1': {},\n",
       " '2715:1': {},\n",
       " '2720:1': {},\n",
       " '2725:1': {},\n",
       " '2730:1': {},\n",
       " '2734:1': {},\n",
       " '2746:1': {},\n",
       " '2755:1': {},\n",
       " '2765:1': {},\n",
       " '2768:1': {},\n",
       " '2782:1': {},\n",
       " '2786:1': {},\n",
       " '2796:1': {},\n",
       " '2807:1': {},\n",
       " '2813:1': {},\n",
       " '2823:1': {},\n",
       " '2832:1': {},\n",
       " '2835:1': {},\n",
       " '2848:1': {},\n",
       " '2855:1': {},\n",
       " '2858:1': {},\n",
       " '2863:1': {},\n",
       " '2871:1': {},\n",
       " '2885:1': {},\n",
       " '2899:1': {},\n",
       " '2907:1': {},\n",
       " '2911:1': {},\n",
       " '2917:1': {},\n",
       " '2934:1': {},\n",
       " '2946:1': {},\n",
       " '2950:1': {},\n",
       " '2955:1': {},\n",
       " '2962:1': {},\n",
       " '2975:1': {},\n",
       " '2986:1': {},\n",
       " '2995:1': {},\n",
       " '3026:1': {},\n",
       " '3029:1': {},\n",
       " '3042:1': {},\n",
       " '3045:1': {},\n",
       " '3056:1': {},\n",
       " '3067:1': {},\n",
       " '3077:1': {},\n",
       " '3088:1': {},\n",
       " '3094:1': {},\n",
       " '3097:1': {},\n",
       " '3104:1': {},\n",
       " '3110:1': {},\n",
       " '3117:1': {},\n",
       " '3121:1': {},\n",
       " '3126:1': {},\n",
       " '3130:1': {},\n",
       " '3135:1': {},\n",
       " '3148:1': {},\n",
       " '3156:1': {},\n",
       " '3175:1': {},\n",
       " '3188:1': {},\n",
       " '3192:1': {},\n",
       " '3204:1': {},\n",
       " '3218:1': {},\n",
       " '3221:1': {},\n",
       " '3227:1': {},\n",
       " '3236:1': {},\n",
       " '3243:1': {},\n",
       " '3250:1': {},\n",
       " '3264:1': {},\n",
       " '3274:1': {},\n",
       " '3279:1': {},\n",
       " '3281:1': {},\n",
       " '3286:1': {},\n",
       " '3292:1': {},\n",
       " '3296:1': {},\n",
       " '3299:1': {},\n",
       " '3311:1': {},\n",
       " '3322:1': {},\n",
       " '3342:1': {},\n",
       " '3358:1': {},\n",
       " '3370:1': {},\n",
       " '3387:1': {},\n",
       " '3398:1': {},\n",
       " '3425:1': {},\n",
       " '3429:1': {},\n",
       " '3438:1': {},\n",
       " '3446:1': {},\n",
       " '3456:1': {},\n",
       " '3460:1': {},\n",
       " '3465:1': {},\n",
       " '3468:1': {},\n",
       " '3478:1': {},\n",
       " '3482:1': {},\n",
       " '3489:1': {},\n",
       " '3494:1': {},\n",
       " '3519:1': {},\n",
       " '3527:1': {},\n",
       " '3532:1': {},\n",
       " '3543:1': {},\n",
       " '3546:1': {},\n",
       " '3556:1': {},\n",
       " '3565:1': {},\n",
       " '3569:1': {},\n",
       " '3578:1': {},\n",
       " '3582:1': {},\n",
       " '3587:1': {},\n",
       " '3596:1': {},\n",
       " '3607:1': {},\n",
       " '3612:1': {},\n",
       " '3617:1': {},\n",
       " '3628:1': {},\n",
       " '3640:1': {},\n",
       " '3650:1': {},\n",
       " '3659:1': {},\n",
       " '3668:1': {},\n",
       " '3685:1': {},\n",
       " '3704:1': {},\n",
       " '3714:1': {},\n",
       " '3717:1': {},\n",
       " '3735:1': {},\n",
       " '3740:1': {},\n",
       " '3747:1': {},\n",
       " '3754:1': {},\n",
       " '3763:1': {},\n",
       " '3773:1': {},\n",
       " '3782:1': {},\n",
       " '3796:1': {},\n",
       " '3808:2': {},\n",
       " '3813:1': {},\n",
       " '3829:1': {},\n",
       " '3838:1': {},\n",
       " '3846:1': {},\n",
       " '3856:1': {},\n",
       " '3864:1': {},\n",
       " '3870:1': {},\n",
       " '3885:1': {},\n",
       " '3893:1': {},\n",
       " '3902:1': {},\n",
       " '3905:1': {},\n",
       " '3917:1': {},\n",
       " '3926:1': {},\n",
       " '3937:1': {},\n",
       " '3957:1': {},\n",
       " '3972:1': {},\n",
       " '3975:1': {},\n",
       " '3985:1': {},\n",
       " '3989:1': {},\n",
       " '4006:1': {},\n",
       " '4020:1': {},\n",
       " '4025:1': {},\n",
       " '4031:1': {},\n",
       " '4040:1': {},\n",
       " '4050:1': {},\n",
       " '4072:1': {},\n",
       " '4085:1': {},\n",
       " '4091:1': {},\n",
       " '4101:1': {},\n",
       " '4105:1': {},\n",
       " '4114:1': {},\n",
       " '4118:1': {},\n",
       " '4127:1': {},\n",
       " '4132:1': {},\n",
       " '4137:1': {},\n",
       " '4142:1': {},\n",
       " '4147:1': {},\n",
       " '4159:1': {},\n",
       " '4162:1': {},\n",
       " '4177:1': {},\n",
       " '4183:2': {},\n",
       " '4196:1': {},\n",
       " '4207:1': {},\n",
       " '4215:1': {},\n",
       " '4220:1': {},\n",
       " '4231:1': {},\n",
       " '4236:1': {},\n",
       " '4252:1': {},\n",
       " '4261:1': {},\n",
       " '4270:1': {},\n",
       " '4282:1': {},\n",
       " '4298:1': {},\n",
       " '4301:1': {},\n",
       " '4319:1': {},\n",
       " '4327:1': {},\n",
       " '4331:1': {},\n",
       " '4341:1': {},\n",
       " '4350:1': {},\n",
       " '4359:1': {},\n",
       " '4364:1': {},\n",
       " '4368:1': {},\n",
       " '4380:1': {},\n",
       " '4391:1': {},\n",
       " '4397:1': {},\n",
       " '4401:1': {},\n",
       " '4419:1': {},\n",
       " '4424:1': {},\n",
       " '4428:1': {},\n",
       " '4438:1': {},\n",
       " '4453:1': {},\n",
       " '4459:1': {},\n",
       " '4471:2': {},\n",
       " '4494:1': {},\n",
       " '4504:1': {},\n",
       " '4513:1': {},\n",
       " '4518:1': {},\n",
       " '4528:1': {},\n",
       " '4538:1': {},\n",
       " '4546:1': {},\n",
       " '4553:1': {},\n",
       " '4556:1': {},\n",
       " '4562:1': {},\n",
       " '4576:1': {},\n",
       " '4580:1': {},\n",
       " '4583:1': {},\n",
       " '4595:1': {},\n",
       " '4598:1': {},\n",
       " '4604:1': {},\n",
       " '4626:1': {},\n",
       " '4640:1': {},\n",
       " '4649:1': {},\n",
       " '4656:1': {},\n",
       " '4665:1': {},\n",
       " '4670:1': {},\n",
       " '4675:2': {},\n",
       " '4682:1': {},\n",
       " '4695:1': {},\n",
       " '4720:1': {},\n",
       " '4728:1': {},\n",
       " '4732:1': {},\n",
       " '4760:1': {},\n",
       " '4776:1': {},\n",
       " '4781:1': {},\n",
       " '4786:1': {},\n",
       " '4799:1': {},\n",
       " '4814:1': {},\n",
       " '4822:1': {},\n",
       " '4829:1': {},\n",
       " '4832:1': {},\n",
       " '4844:1': {},\n",
       " '4852:1': {},\n",
       " '4863:1': {},\n",
       " '4874:1': {},\n",
       " '4883:1': {},\n",
       " '4887:1': {},\n",
       " '4893:1': {},\n",
       " '4897:1': {},\n",
       " '4907:1': {},\n",
       " '4921:1': {},\n",
       " '4924:5': {},\n",
       " '4968:1': {},\n",
       " '4985:3': {},\n",
       " '5009:1': {},\n",
       " '5013:2': {},\n",
       " '5023:2': {},\n",
       " '5039:4': {},\n",
       " '5072:2': {},\n",
       " '5092:2': {},\n",
       " '5100:1': {},\n",
       " '5108:1': {},\n",
       " '5113:1': {},\n",
       " '5130:1': {},\n",
       " '5135:1': {},\n",
       " '5138:1': {},\n",
       " '5149:1': {},\n",
       " '5159:1': {},\n",
       " '5170:1': {},\n",
       " '5179:1': {},\n",
       " '5184:1': {}}"
      ]
     },
     "metadata": {},
     "execution_count": 64
    }
   ],
   "source": [
    "result"
   ]
  },
  {
   "cell_type": "code",
   "execution_count": 69,
   "metadata": {},
   "outputs": [],
   "source": [
    "output = {\n",
    "    'NL/NL1/17.txt': result\n",
    "}"
   ]
  },
  {
   "cell_type": "code",
   "execution_count": 70,
   "metadata": {},
   "outputs": [],
   "source": [
    "import json\n",
    "with open('result.json', 'w') as f:\n",
    "    json.dump(output, f, indent=2)"
   ]
  }
 ]
}