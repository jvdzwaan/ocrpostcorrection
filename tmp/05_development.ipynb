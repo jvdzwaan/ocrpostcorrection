{
 "cells": [
  {
   "cell_type": "raw",
   "metadata": {},
   "source": [
    "---\n",
    "title: Development\n",
    "output-file: development.html\n",
    "description: Notes about development of the package.\n",
    "---"
   ]
  },
  {
   "attachments": {},
   "cell_type": "markdown",
   "metadata": {},
   "source": [
    "## Combining poetry and nbdev\n",
    "\n",
    "### Generating the list of dependencies\n",
    "\n",
    "For `nbdev` requirements should be listed in `settings.ini`, while poetry keeps them in the `pyrpoject.toml` file.\n",
    "\n",
    "1. Use poetry to manage dependencies.\n",
    "2. Use `poetry2setup` to print the contents of a `setup.py` file to stdout.\n",
    "3. Copy/paste/edit the requirements and put them in `settings.ini`.\n",
    "\n",
    "Unfortunately, dev depencencies have to be synced manually."
   ]
  }
 ],
 "metadata": {
  "kernelspec": {
   "display_name": "python3",
   "language": "python",
   "name": "python3"
  }
 },
 "nbformat": 4,
 "nbformat_minor": 2
}
